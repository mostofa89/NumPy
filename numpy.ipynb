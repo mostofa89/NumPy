{
  "nbformat": 4,
  "nbformat_minor": 0,
  "metadata": {
    "colab": {
      "provenance": [],
      "authorship_tag": "ABX9TyOXYhJ19w4K6nGab1J/1wAn",
      "include_colab_link": true
    },
    "kernelspec": {
      "name": "python3",
      "display_name": "Python 3"
    },
    "language_info": {
      "name": "python"
    }
  },
  "cells": [
    {
      "cell_type": "markdown",
      "metadata": {
        "id": "view-in-github",
        "colab_type": "text"
      },
      "source": [
        "<a href=\"https://colab.research.google.com/github/mostofa89/NumPy/blob/main/numpy.ipynb\" target=\"_parent\"><img src=\"https://colab.research.google.com/assets/colab-badge.svg\" alt=\"Open In Colab\"/></a>"
      ]
    },
    {
      "cell_type": "code",
      "execution_count": 1,
      "metadata": {
        "id": "jXL9SCfHmB8N"
      },
      "outputs": [],
      "source": [
        "import numpy as np\n"
      ]
    },
    {
      "cell_type": "code",
      "source": [
        "nums = np.array([1, 2, 3])\n",
        "\n",
        "print(nums)"
      ],
      "metadata": {
        "colab": {
          "base_uri": "https://localhost:8080/"
        },
        "id": "x8z7pcdzu6fh",
        "outputId": "3cf8bff4-1654-49cd-9e26-ebe452bdfb2e"
      },
      "execution_count": 2,
      "outputs": [
        {
          "output_type": "stream",
          "name": "stdout",
          "text": [
            "[1 2 3]\n"
          ]
        }
      ]
    },
    {
      "cell_type": "code",
      "source": [
        "arr = np.array([[3.5, 4.5, 6], [7, 8, 9.10]])\n",
        "nums = np.array([1, 2, 3], dtype='int16')\n",
        "print(arr)\n",
        "print(arr.ndim)  # print Dimentions\n",
        "print(arr.shape) # Print Shape\n",
        "print(arr.dtype) # print the data type\n",
        "print(nums.dtype)\n",
        "print(arr.size) # to the length\n",
        "print(nums.itemsize) # return the size in bytes\n",
        "print(arr.itemsize)"
      ],
      "metadata": {
        "colab": {
          "base_uri": "https://localhost:8080/"
        },
        "id": "flktNWirwWX4",
        "outputId": "0ca78bfe-f54c-472e-99ec-16cfd61c2514"
      },
      "execution_count": 3,
      "outputs": [
        {
          "output_type": "stream",
          "name": "stdout",
          "text": [
            "[[3.5 4.5 6. ]\n",
            " [7.  8.  9.1]]\n",
            "2\n",
            "(2, 3)\n",
            "float64\n",
            "int16\n",
            "6\n",
            "2\n",
            "8\n"
          ]
        }
      ]
    },
    {
      "cell_type": "code",
      "source": [
        "#get Total size\n",
        "print(arr.nbytes)"
      ],
      "metadata": {
        "id": "qwcirk680gHD",
        "colab": {
          "base_uri": "https://localhost:8080/"
        },
        "outputId": "ad49e5cb-e88e-4ca7-8649-a5345746319a"
      },
      "execution_count": 4,
      "outputs": [
        {
          "output_type": "stream",
          "name": "stdout",
          "text": [
            "48\n"
          ]
        }
      ]
    },
    {
      "cell_type": "code",
      "source": [
        "nums = np.array([[1, 2, 3], [4, 5, 6], [7, 8, 9]])\n",
        "print(nums)"
      ],
      "metadata": {
        "id": "uoQ5Ns0gqVFT",
        "outputId": "ca7f477e-547b-47e1-bf89-8a6a11d06c35",
        "colab": {
          "base_uri": "https://localhost:8080/"
        }
      },
      "execution_count": 5,
      "outputs": [
        {
          "output_type": "stream",
          "name": "stdout",
          "text": [
            "[[1 2 3]\n",
            " [4 5 6]\n",
            " [7 8 9]]\n"
          ]
        }
      ]
    },
    {
      "cell_type": "code",
      "source": [
        "# get specific element [r, c]\n",
        "print(nums[2, 2])\n",
        "print(nums[2][2])"
      ],
      "metadata": {
        "id": "NWxIKGO8qnLU",
        "outputId": "1eae9596-1fae-4836-b7ad-7de8b3de5f76",
        "colab": {
          "base_uri": "https://localhost:8080/"
        }
      },
      "execution_count": 6,
      "outputs": [
        {
          "output_type": "stream",
          "name": "stdout",
          "text": [
            "9\n",
            "9\n"
          ]
        }
      ]
    },
    {
      "cell_type": "code",
      "source": [
        "# get Specific row\n",
        "\n",
        "print(nums[1])\n",
        "print(nums[0, :])\n",
        "print(nums[:1]) # give nd Row"
      ],
      "metadata": {
        "id": "KNEY6ujurQEY",
        "outputId": "8726ec2d-4f50-4ff9-969a-fb6bae732b72",
        "colab": {
          "base_uri": "https://localhost:8080/"
        }
      },
      "execution_count": 7,
      "outputs": [
        {
          "output_type": "stream",
          "name": "stdout",
          "text": [
            "[4 5 6]\n",
            "[1 2 3]\n",
            "[[1 2 3]]\n"
          ]
        }
      ]
    },
    {
      "cell_type": "code",
      "source": [
        "# get specific column\n",
        "print(nums[ :, 2])"
      ],
      "metadata": {
        "id": "ZnVWJowewNC-",
        "outputId": "1ad09465-30f9-4888-e879-610fefb5027a",
        "colab": {
          "base_uri": "https://localhost:8080/"
        }
      },
      "execution_count": 8,
      "outputs": [
        {
          "output_type": "stream",
          "name": "stdout",
          "text": [
            "[3 6 9]\n"
          ]
        }
      ]
    },
    {
      "cell_type": "code",
      "source": [],
      "metadata": {
        "id": "TchipGa46XN3"
      },
      "execution_count": 8,
      "outputs": []
    },
    {
      "cell_type": "markdown",
      "source": [
        "#Slicing"
      ],
      "metadata": {
        "id": "rhvzEPpb7SdQ"
      }
    },
    {
      "cell_type": "code",
      "source": [
        "nums = np.arange(1, 10).reshape(3, 3)\n",
        "arr = np.arange(1, 10)"
      ],
      "metadata": {
        "id": "GGdPdrYW7WnB"
      },
      "execution_count": 9,
      "outputs": []
    },
    {
      "cell_type": "code",
      "source": [
        "print(nums[0:2])\n",
        "print(arr[0:2])"
      ],
      "metadata": {
        "id": "SA0a1l8w8UBj",
        "outputId": "f6af010f-6877-41b4-c390-9240bfda37f8",
        "colab": {
          "base_uri": "https://localhost:8080/"
        }
      },
      "execution_count": 10,
      "outputs": [
        {
          "output_type": "stream",
          "name": "stdout",
          "text": [
            "[[1 2 3]\n",
            " [4 5 6]]\n",
            "[1 2]\n"
          ]
        }
      ]
    },
    {
      "cell_type": "code",
      "source": [
        "#need [5 6]\n",
        "print(nums[1][1:3])"
      ],
      "metadata": {
        "id": "OZTCR18Y8Z3b",
        "outputId": "79b727a8-658a-4c1a-8af4-3518808056b8",
        "colab": {
          "base_uri": "https://localhost:8080/"
        }
      },
      "execution_count": 11,
      "outputs": [
        {
          "output_type": "stream",
          "name": "stdout",
          "text": [
            "[5 6]\n"
          ]
        }
      ]
    },
    {
      "cell_type": "code",
      "source": [
        "print(nums[1:3:1])\n",
        "print(arr[1:3:2])"
      ],
      "metadata": {
        "id": "-IZf7v6u8xDr",
        "outputId": "801caf8e-31aa-444f-f3fb-5758db2cc683",
        "colab": {
          "base_uri": "https://localhost:8080/"
        }
      },
      "execution_count": 12,
      "outputs": [
        {
          "output_type": "stream",
          "name": "stdout",
          "text": [
            "[[4 5 6]\n",
            " [7 8 9]]\n",
            "[2]\n"
          ]
        }
      ]
    },
    {
      "cell_type": "code",
      "source": [
        "# starting : ending : step\n",
        "print(arr[::2])\n",
        "print(nums[::1])"
      ],
      "metadata": {
        "id": "yATxtxyc-rWw",
        "outputId": "9a5629c3-cc50-4a0b-a662-18b37608145d",
        "colab": {
          "base_uri": "https://localhost:8080/"
        }
      },
      "execution_count": 13,
      "outputs": [
        {
          "output_type": "stream",
          "name": "stdout",
          "text": [
            "[1 3 5 7 9]\n",
            "[[1 2 3]\n",
            " [4 5 6]\n",
            " [7 8 9]]\n"
          ]
        }
      ]
    },
    {
      "cell_type": "code",
      "source": [
        "# row, col-starting, ending\n",
        "print(nums[2, 0:3])\n",
        "print(nums[1, 1:3])"
      ],
      "metadata": {
        "id": "YJfHmTdN_uyw",
        "outputId": "ce7eeb70-932b-4c43-ce8f-a73488eb645a",
        "colab": {
          "base_uri": "https://localhost:8080/"
        }
      },
      "execution_count": 14,
      "outputs": [
        {
          "output_type": "stream",
          "name": "stdout",
          "text": [
            "[7 8 9]\n",
            "[5 6]\n"
          ]
        }
      ]
    },
    {
      "cell_type": "code",
      "source": [
        "#row-staring:row-ending, col-number\n",
        "print(nums[1:3, 1])\n",
        "print(nums[0:3, 2])"
      ],
      "metadata": {
        "id": "yB9mbNp4_URs",
        "outputId": "ddd88aa4-4da8-4fde-8645-ffee1698b436",
        "colab": {
          "base_uri": "https://localhost:8080/"
        }
      },
      "execution_count": 15,
      "outputs": [
        {
          "output_type": "stream",
          "name": "stdout",
          "text": [
            "[5 8]\n",
            "[3 6 9]\n"
          ]
        }
      ]
    },
    {
      "cell_type": "code",
      "source": [
        "#row-staring:row-ending, col-starting, col-ending\n",
        "print(nums[0:2, 1:4])"
      ],
      "metadata": {
        "id": "bpGveWkuCGEq",
        "outputId": "13c620c5-b998-443f-d933-2588b2f81cf7",
        "colab": {
          "base_uri": "https://localhost:8080/"
        }
      },
      "execution_count": 16,
      "outputs": [
        {
          "output_type": "stream",
          "name": "stdout",
          "text": [
            "[[2 3]\n",
            " [5 6]]\n"
          ]
        }
      ]
    },
    {
      "cell_type": "markdown",
      "source": [
        "#Copy as View"
      ],
      "metadata": {
        "id": "TlHVYIdnNKOC"
      }
    },
    {
      "cell_type": "code",
      "source": [
        "arr = np.array([1, 2, 3, 4, 5])\n",
        "x = arr.copy()\n",
        "arr[0] = 42\n",
        "\n",
        "print(arr)\n",
        "print(x)"
      ],
      "metadata": {
        "colab": {
          "base_uri": "https://localhost:8080/"
        },
        "id": "sykVgsjqNMtA",
        "outputId": "69e1d84a-c985-4082-dd0a-1dabd0a45957"
      },
      "execution_count": 17,
      "outputs": [
        {
          "output_type": "stream",
          "name": "stdout",
          "text": [
            "[42  2  3  4  5]\n",
            "[1 2 3 4 5]\n"
          ]
        }
      ]
    },
    {
      "cell_type": "code",
      "source": [
        "import numpy as np\n",
        "\n",
        "arr = np.array([1, 2, 3, 4, 5])\n",
        "x = arr.view()\n",
        "arr[0] = 42\n",
        "\n",
        "print(arr)\n",
        "print(x)"
      ],
      "metadata": {
        "colab": {
          "base_uri": "https://localhost:8080/"
        },
        "id": "1jAbkEr8NerB",
        "outputId": "afc0b58a-7750-45ea-d77c-80979bf8f40d"
      },
      "execution_count": 18,
      "outputs": [
        {
          "output_type": "stream",
          "name": "stdout",
          "text": [
            "[42  2  3  4  5]\n",
            "[42  2  3  4  5]\n"
          ]
        }
      ]
    },
    {
      "cell_type": "code",
      "source": [
        "import numpy as np\n",
        "\n",
        "arr = np.array([1, 2, 3, 4, 5])\n",
        "\n",
        "x = arr.copy()\n",
        "y = arr.view()\n",
        "\n",
        "print(x.base)\n",
        "print(y.base)"
      ],
      "metadata": {
        "colab": {
          "base_uri": "https://localhost:8080/"
        },
        "id": "TWniloLqNoCY",
        "outputId": "5d591a48-1c51-4581-a524-770eb6a5fa2b"
      },
      "execution_count": 19,
      "outputs": [
        {
          "output_type": "stream",
          "name": "stdout",
          "text": [
            "None\n",
            "[1 2 3 4 5]\n"
          ]
        }
      ]
    },
    {
      "cell_type": "markdown",
      "source": [
        "#Shape"
      ],
      "metadata": {
        "id": "NrgvXk7aN0zL"
      }
    },
    {
      "cell_type": "code",
      "source": [
        "import numpy as np\n",
        "\n",
        "arr = np.array([1, 2, 3, 4, 5, 7], ndmin=4)\n",
        "\n",
        "print(arr)\n",
        "print('shape of array :', arr.shape)"
      ],
      "metadata": {
        "colab": {
          "base_uri": "https://localhost:8080/"
        },
        "id": "AIISSUlHN2Ok",
        "outputId": "d0288695-0f27-411e-e996-b033e1993884"
      },
      "execution_count": 20,
      "outputs": [
        {
          "output_type": "stream",
          "name": "stdout",
          "text": [
            "[[[[1 2 3 4 5 7]]]]\n",
            "shape of array : (1, 1, 1, 6)\n"
          ]
        }
      ]
    },
    {
      "cell_type": "markdown",
      "source": [
        "#Reshape"
      ],
      "metadata": {
        "id": "VeUEM5cvOPq8"
      }
    },
    {
      "cell_type": "code",
      "source": [
        "arr = np.array([1, 2, 3, 4, 5, 6, 7, 8, 9], ndmin=4)\n",
        "\n",
        "print(arr)\n",
        "nums = arr.reshape(3,3)\n",
        "print(nums)"
      ],
      "metadata": {
        "colab": {
          "base_uri": "https://localhost:8080/"
        },
        "id": "aV92NuBXORoU",
        "outputId": "9368d279-f1ca-42fe-8493-0def16bfc38d"
      },
      "execution_count": 21,
      "outputs": [
        {
          "output_type": "stream",
          "name": "stdout",
          "text": [
            "[[[[1 2 3 4 5 6 7 8 9]]]]\n",
            "[[1 2 3]\n",
            " [4 5 6]\n",
            " [7 8 9]]\n"
          ]
        }
      ]
    },
    {
      "cell_type": "code",
      "source": [
        "arr = np.array([1, 2, 3, 4, 5, 6, 7, 8, 9, 10, 11, 12])\n",
        "\n",
        "newarr = arr.reshape(2, 3, 2)\n",
        "\n",
        "print(newarr)"
      ],
      "metadata": {
        "colab": {
          "base_uri": "https://localhost:8080/"
        },
        "id": "fBCC7A-WOtxt",
        "outputId": "f7e3c8a2-ea8a-416a-9acf-828e4bc98590"
      },
      "execution_count": 22,
      "outputs": [
        {
          "output_type": "stream",
          "name": "stdout",
          "text": [
            "[[[ 1  2]\n",
            "  [ 3  4]\n",
            "  [ 5  6]]\n",
            "\n",
            " [[ 7  8]\n",
            "  [ 9 10]\n",
            "  [11 12]]]\n"
          ]
        }
      ]
    },
    {
      "cell_type": "code",
      "source": [
        "arr = np.array([1, 2, 3, 4, 5, 6, 7, 8])\n",
        "\n",
        "newarr = arr.reshape(2, 2, -1)\n",
        "\n",
        "print(newarr.base)"
      ],
      "metadata": {
        "colab": {
          "base_uri": "https://localhost:8080/"
        },
        "id": "nrcD5MMcO4uJ",
        "outputId": "cdf41d3c-1079-4345-cfa0-d5f249bbf2a9"
      },
      "execution_count": 23,
      "outputs": [
        {
          "output_type": "stream",
          "name": "stdout",
          "text": [
            "[1 2 3 4 5 6 7 8]\n"
          ]
        }
      ]
    },
    {
      "cell_type": "code",
      "source": [
        "arr = np.array([[1, 2, 3], [4, 5, 6]])\n",
        "\n",
        "newarr = arr.reshape(1, 6)\n",
        "nums = arr.reshape(-1)\n",
        "\n",
        "print(newarr)\n",
        "print(nums)"
      ],
      "metadata": {
        "colab": {
          "base_uri": "https://localhost:8080/"
        },
        "id": "6-ETSWEFPAdZ",
        "outputId": "0a53e5f2-1215-434a-916d-2e044ba1854c"
      },
      "execution_count": 24,
      "outputs": [
        {
          "output_type": "stream",
          "name": "stdout",
          "text": [
            "[[1 2 3 4 5 6]]\n",
            "[1 2 3 4 5 6]\n"
          ]
        }
      ]
    },
    {
      "cell_type": "markdown",
      "source": [
        "#Iterating Numpy Array"
      ],
      "metadata": {
        "id": "H8seZlecQtx5"
      }
    },
    {
      "cell_type": "code",
      "source": [
        "arr = np.array([1, 2, 3])\n",
        "\n",
        "for x in arr:\n",
        "  print(x, end = \" \")"
      ],
      "metadata": {
        "colab": {
          "base_uri": "https://localhost:8080/"
        },
        "id": "0KRZ7tTJQ2hI",
        "outputId": "5f6a676b-45c6-49b9-ef47-238d9d010fbe"
      },
      "execution_count": 25,
      "outputs": [
        {
          "output_type": "stream",
          "name": "stdout",
          "text": [
            "1 2 3 "
          ]
        }
      ]
    },
    {
      "cell_type": "code",
      "source": [
        "arr = np.array([[1, 2, 3], [4, 5, 6]]) # 2d Array\n",
        "\n",
        "for x in arr:\n",
        "  print(x)"
      ],
      "metadata": {
        "colab": {
          "base_uri": "https://localhost:8080/"
        },
        "id": "-5lFX9NzRBwc",
        "outputId": "ea49f0e5-768c-4a64-d2c0-e0146cce4371"
      },
      "execution_count": 26,
      "outputs": [
        {
          "output_type": "stream",
          "name": "stdout",
          "text": [
            "[1 2 3]\n",
            "[4 5 6]\n"
          ]
        }
      ]
    },
    {
      "cell_type": "code",
      "source": [
        "arr = np.array([[1, 2, 3], [4, 5, 6]]) # 2d Array\n",
        "\n",
        "for items in arr:\n",
        "  for i in items:\n",
        "    print(i, end = \" \")"
      ],
      "metadata": {
        "colab": {
          "base_uri": "https://localhost:8080/"
        },
        "id": "lTBVf3yHRHjT",
        "outputId": "320b66f6-1e0e-4bdb-f42c-8c4331adaeb0"
      },
      "execution_count": 27,
      "outputs": [
        {
          "output_type": "stream",
          "name": "stdout",
          "text": [
            "1 2 3 4 5 6 "
          ]
        }
      ]
    },
    {
      "cell_type": "code",
      "source": [
        "arr = np.array([[[1, 2, 3], [4, 5, 6]], [[7, 8, 9], [10, 11, 12]]]) # 3d Array\n",
        "\n",
        "for x in arr:\n",
        "  for y in x:\n",
        "    for z in y:\n",
        "      print(z, end = \" \")"
      ],
      "metadata": {
        "colab": {
          "base_uri": "https://localhost:8080/"
        },
        "id": "MoEvtIhLRbog",
        "outputId": "151188ef-668d-48b6-f240-80570d8f7866"
      },
      "execution_count": 28,
      "outputs": [
        {
          "output_type": "stream",
          "name": "stdout",
          "text": [
            "1 2 3 4 5 6 7 8 9 10 11 12 "
          ]
        }
      ]
    },
    {
      "cell_type": "code",
      "source": [
        "arr = np.array([[[1, 2], [3, 4]], [[5, 6], [7, 8]]]) # 3D Array\n",
        "\n",
        "for x in np.nditer(arr):\n",
        "  print(x, end = \" \")"
      ],
      "metadata": {
        "colab": {
          "base_uri": "https://localhost:8080/"
        },
        "id": "WqruSwYNRDm8",
        "outputId": "36fe83fd-e8ee-4b9c-be41-ef0520bbf330"
      },
      "execution_count": 29,
      "outputs": [
        {
          "output_type": "stream",
          "name": "stdout",
          "text": [
            "1 2 3 4 5 6 7 8 "
          ]
        }
      ]
    },
    {
      "cell_type": "code",
      "source": [
        "arr = np.array([1, 2, 3])\n",
        "\n",
        "for x in np.nditer(arr, flags=['buffered'], op_dtypes=['S']):\n",
        "  print(x)"
      ],
      "metadata": {
        "colab": {
          "base_uri": "https://localhost:8080/"
        },
        "id": "hvBmrn_5SLII",
        "outputId": "1599650f-f9d7-443b-ba20-530e2dfd429d"
      },
      "execution_count": 30,
      "outputs": [
        {
          "output_type": "stream",
          "name": "stdout",
          "text": [
            "np.bytes_(b'1')\n",
            "np.bytes_(b'2')\n",
            "np.bytes_(b'3')\n"
          ]
        }
      ]
    },
    {
      "cell_type": "markdown",
      "source": [
        "# Join or Concatinate"
      ],
      "metadata": {
        "id": "mbvAwr3849bW"
      }
    },
    {
      "cell_type": "code",
      "source": [
        "arr1 = np.array([1, 2, 3])\n",
        "arr2 = np.array([4, 5, 6])\n",
        "arr3 = np.array([7, 8, 9])\n",
        "\n",
        "arr = np.hstack((arr1, arr2, arr3)) # join into 1D array\n",
        "\n",
        "print(arr)"
      ],
      "metadata": {
        "id": "Jz3MPuQq4Y5c",
        "outputId": "c1627643-e6ea-4dbc-e345-c4b26496dd7f",
        "colab": {
          "base_uri": "https://localhost:8080/"
        }
      },
      "execution_count": 32,
      "outputs": [
        {
          "output_type": "stream",
          "name": "stdout",
          "text": [
            "[1 2 3 4 5 6 7 8 9]\n"
          ]
        }
      ]
    },
    {
      "cell_type": "code",
      "source": [
        "arr1 = np.array([1, 2, 3])\n",
        "arr2 = np.array([4, 5, 6])\n",
        "arr3 = np.array([7, 8, 9])\n",
        "\n",
        "arr = np.vstack((arr1, arr2, arr3)) # join into 2D array\n",
        "\n",
        "print(arr)"
      ],
      "metadata": {
        "id": "l_eh7vmh467G",
        "outputId": "78ecac34-b8fb-47ca-94e4-51f416d5ef2d",
        "colab": {
          "base_uri": "https://localhost:8080/"
        }
      },
      "execution_count": 34,
      "outputs": [
        {
          "output_type": "stream",
          "name": "stdout",
          "text": [
            "[[1 2 3]\n",
            " [4 5 6]\n",
            " [7 8 9]]\n"
          ]
        }
      ]
    },
    {
      "cell_type": "code",
      "source": [
        "arr1 = np.array([1, 2, 3])\n",
        "arr2 = np.array([4, 5, 6])\n",
        "arr3 = np.array([7, 8, 9])\n",
        "arr4 = np.array([10, 11, 12])\n",
        "\n",
        "arr = np.dstack((arr1, arr2, arr3)) # Join into 3D array\n",
        "\n",
        "print(arr)"
      ],
      "metadata": {
        "id": "wPIh9Mck5UmO",
        "outputId": "edccbc92-95f2-4d25-da62-305e083e0eb9",
        "colab": {
          "base_uri": "https://localhost:8080/"
        }
      },
      "execution_count": 37,
      "outputs": [
        {
          "output_type": "stream",
          "name": "stdout",
          "text": [
            "[[[1 4 7]\n",
            "  [2 5 8]\n",
            "  [3 6 9]]]\n"
          ]
        }
      ]
    },
    {
      "cell_type": "markdown",
      "source": [
        "#Split"
      ],
      "metadata": {
        "id": "loXFaCoF5uD5"
      }
    },
    {
      "cell_type": "code",
      "source": [
        "arr = np.array([1, 2, 3, 4, 5, 6])\n",
        "\n",
        "nums1, nums2 = np.array_split(arr, 2) # split into array\n",
        "\n",
        "print(nums1)\n",
        "print(nums2)"
      ],
      "metadata": {
        "id": "WxdBaZJI5tyl",
        "outputId": "69d6fcfa-f31f-4226-aaef-22b94afd0778",
        "colab": {
          "base_uri": "https://localhost:8080/"
        }
      },
      "execution_count": 41,
      "outputs": [
        {
          "output_type": "stream",
          "name": "stdout",
          "text": [
            "[1 2 3]\n",
            "[4 5 6]\n"
          ]
        }
      ]
    },
    {
      "cell_type": "code",
      "source": [
        "arr = np.array([1, 2, 3, 4, 5, 6])\n",
        "\n",
        "newarr = np.array_split(arr, 4)\n",
        "\n",
        "print(newarr)"
      ],
      "metadata": {
        "id": "AiaYa7tK6Gtt",
        "outputId": "0d62aa44-dd54-45e6-9103-c3721cadbd76",
        "colab": {
          "base_uri": "https://localhost:8080/"
        }
      },
      "execution_count": 42,
      "outputs": [
        {
          "output_type": "stream",
          "name": "stdout",
          "text": [
            "[array([1, 2]), array([3, 4]), array([5]), array([6])]\n"
          ]
        }
      ]
    },
    {
      "cell_type": "markdown",
      "source": [
        "# Search in Numpy array"
      ],
      "metadata": {
        "id": "HsPsVwxC6OjN"
      }
    },
    {
      "cell_type": "code",
      "source": [
        "arr = np.array([1, 2, 3, 4, 5, 4, 4])\n",
        "\n",
        "x = np.where(arr == 4) # return the index of the element\n",
        "\n",
        "print(x)"
      ],
      "metadata": {
        "id": "6mlg5ZX36S7t",
        "outputId": "0217d294-f9a3-4d28-8ef2-d75fce97202b",
        "colab": {
          "base_uri": "https://localhost:8080/"
        }
      },
      "execution_count": 44,
      "outputs": [
        {
          "output_type": "stream",
          "name": "stdout",
          "text": [
            "(array([3, 5, 6]),)\n"
          ]
        }
      ]
    },
    {
      "cell_type": "code",
      "source": [
        "arr = np.array([1, 2, 3, 4, 5, 6, 7, 8, 9, 10, 11, 12, 13, 14])\n",
        "\n",
        "x = np.where(arr%2 == 0) # return the index\n",
        "\n",
        "print(x)"
      ],
      "metadata": {
        "id": "w2DkGJYi6hSz",
        "outputId": "46e04b0c-29b2-4271-fd5e-a0bbbcbb0c7e",
        "colab": {
          "base_uri": "https://localhost:8080/"
        }
      },
      "execution_count": 52,
      "outputs": [
        {
          "output_type": "stream",
          "name": "stdout",
          "text": [
            "(array([ 1,  3,  5,  7,  9, 11, 13]),)\n"
          ]
        }
      ]
    },
    {
      "cell_type": "code",
      "source": [
        "arr = np.array([1, 2, 3, 4, 5, 6, 7, 8, 9, 10, 11, 12, 13, 15])\n",
        "\n",
        "x = np.where(arr%2 == 1) # return the index\n",
        "\n",
        "print(x)"
      ],
      "metadata": {
        "id": "W4c_0CwM6-Nc",
        "outputId": "2b27930f-d52e-4c93-db43-f6df04ac60b6",
        "colab": {
          "base_uri": "https://localhost:8080/"
        }
      },
      "execution_count": 53,
      "outputs": [
        {
          "output_type": "stream",
          "name": "stdout",
          "text": [
            "(array([ 0,  2,  4,  6,  8, 10, 12, 13]),)\n"
          ]
        }
      ]
    },
    {
      "cell_type": "markdown",
      "source": [
        "#Sorting"
      ],
      "metadata": {
        "id": "kJoN0itw7gOm"
      }
    },
    {
      "cell_type": "code",
      "source": [
        "arr = np.array([6, 8, 10, 7, 9])\n",
        "\n",
        "sorted_arr = np.sort(arr)\n",
        "print(x)"
      ],
      "metadata": {
        "id": "MC1GrzCn7M3x",
        "outputId": "df726056-2dde-4ae7-e645-141c94c528fc",
        "colab": {
          "base_uri": "https://localhost:8080/"
        }
      },
      "execution_count": 59,
      "outputs": [
        {
          "output_type": "stream",
          "name": "stdout",
          "text": [
            "[ 6  7  8  9 10]\n"
          ]
        }
      ]
    },
    {
      "cell_type": "code",
      "source": [
        "arr = np.array(['banana', 'Lichi', 'Mango' 'cherry', 'apple'])\n",
        "\n",
        "print(np.sort(arr)) # First it will sorted uppercase ten lowercase"
      ],
      "metadata": {
        "id": "YUaRSfbS7xbw",
        "outputId": "7c35b250-3865-4df3-bec1-a49e19dd6c3d",
        "colab": {
          "base_uri": "https://localhost:8080/"
        }
      },
      "execution_count": 61,
      "outputs": [
        {
          "output_type": "stream",
          "name": "stdout",
          "text": [
            "['Lichi' 'Mangocherry' 'apple' 'banana']\n"
          ]
        }
      ]
    },
    {
      "cell_type": "code",
      "source": [
        "arr = np.array([True, False, True, False])\n",
        "\n",
        "print(np.sort(arr))"
      ],
      "metadata": {
        "id": "w_N1EU4_8CB9",
        "outputId": "448d1ecf-92f1-4d44-d17b-cfb100efec92",
        "colab": {
          "base_uri": "https://localhost:8080/"
        }
      },
      "execution_count": 63,
      "outputs": [
        {
          "output_type": "stream",
          "name": "stdout",
          "text": [
            "[False False  True  True]\n"
          ]
        }
      ]
    },
    {
      "cell_type": "code",
      "source": [
        "arr = np.array([[3, 2, 4, 6], [5, 0, 1, 7]])\n",
        "\n",
        "print(np.sort(arr))"
      ],
      "metadata": {
        "id": "oZ2zxDyH8JH6",
        "outputId": "40cbc13c-26e1-4ac8-b490-57d8ca4e9493",
        "colab": {
          "base_uri": "https://localhost:8080/"
        }
      },
      "execution_count": 64,
      "outputs": [
        {
          "output_type": "stream",
          "name": "stdout",
          "text": [
            "[[2 3 4 6]\n",
            " [0 1 5 7]]\n"
          ]
        }
      ]
    },
    {
      "cell_type": "markdown",
      "source": [
        "#Filter"
      ],
      "metadata": {
        "id": "HMxFkLLj-v_I"
      }
    },
    {
      "cell_type": "code",
      "source": [
        "arr = np.array([41, 42, 43, 44, 45])\n",
        "\n",
        "x = [True, False, True, False, True]\n",
        "\n",
        "newarr = arr[x]\n",
        "\n",
        "print(newarr)"
      ],
      "metadata": {
        "id": "9IbUvlvO8TRG",
        "outputId": "87784963-5558-484e-cb66-5e58da67f602",
        "colab": {
          "base_uri": "https://localhost:8080/"
        }
      },
      "execution_count": 66,
      "outputs": [
        {
          "output_type": "stream",
          "name": "stdout",
          "text": [
            "[41 43 45]\n"
          ]
        }
      ]
    },
    {
      "cell_type": "code",
      "source": [
        "#Creating a fillter array which elements is grater than 15\n",
        "arr = np.array([41, 10, 15, 11, 42, 43, 44, 45, 59, 70, 90])\n",
        "\n",
        "filter_arr = []\n",
        "\n",
        "for num in arr:\n",
        "  if num > 15:\n",
        "    filter_arr.append(True)\n",
        "\n",
        "  else:\n",
        "    filter_arr.append(False)\n",
        "\n",
        "new_arr = arr[filter_arr]\n",
        "print(filter_arr)\n",
        "print(new_arr)"
      ],
      "metadata": {
        "id": "5UzNNSD3-spG",
        "outputId": "9812a5cd-ac03-4928-df25-d32b1c8aa7c6",
        "colab": {
          "base_uri": "https://localhost:8080/"
        }
      },
      "execution_count": 69,
      "outputs": [
        {
          "output_type": "stream",
          "name": "stdout",
          "text": [
            "[True, False, False, False, True, True, True, True, True, True, True]\n",
            "[41 42 43 44 45 59 70 90]\n"
          ]
        }
      ]
    },
    {
      "cell_type": "code",
      "source": [
        "#Creating a fillter array which elements is divisible by 3\n",
        "arr = np.array([41, 10, 15, 11, 42, 43, 44, 45, 59, 70, 90])\n",
        "\n",
        "filter_arr = []\n",
        "\n",
        "for num in arr:\n",
        "  if num %3 == 0:\n",
        "    filter_arr.append(True)\n",
        "\n",
        "  else:\n",
        "    filter_arr.append(False)\n",
        "\n",
        "new_arr = arr[filter_arr]\n",
        "print(filter_arr)\n",
        "print(new_arr)"
      ],
      "metadata": {
        "id": "pkCgIt4-_1Yf",
        "outputId": "ec7431d3-08cd-4aab-8d18-3a08aa01521c",
        "colab": {
          "base_uri": "https://localhost:8080/"
        }
      },
      "execution_count": 72,
      "outputs": [
        {
          "output_type": "stream",
          "name": "stdout",
          "text": [
            "[False, False, True, False, True, False, False, True, False, False, True]\n",
            "[15 42 45 90]\n"
          ]
        }
      ]
    },
    {
      "cell_type": "code",
      "source": [
        "filter_arr = arr > 15\n",
        "\n",
        "newarr = arr[filter_arr]\n",
        "\n",
        "print(filter_arr)\n",
        "print(newarr)"
      ],
      "metadata": {
        "id": "5ViQXnn3AY6r",
        "outputId": "50a4fb31-9caa-456f-e3c2-d42ad384c4e8",
        "colab": {
          "base_uri": "https://localhost:8080/"
        }
      },
      "execution_count": 74,
      "outputs": [
        {
          "output_type": "stream",
          "name": "stdout",
          "text": [
            "[ True False False False  True  True  True  True  True  True  True]\n",
            "[41 42 43 44 45 59 70 90]\n"
          ]
        }
      ]
    },
    {
      "cell_type": "code",
      "source": [
        "filter_arr = (arr % 3) == 0\n",
        "\n",
        "newarr = arr[filter_arr]\n",
        "\n",
        "print(filter_arr)\n",
        "print(newarr)"
      ],
      "metadata": {
        "id": "Sv031oinAdDD",
        "outputId": "e270fd2d-5b54-4e99-873a-85e6738e3276",
        "colab": {
          "base_uri": "https://localhost:8080/"
        }
      },
      "execution_count": 76,
      "outputs": [
        {
          "output_type": "stream",
          "name": "stdout",
          "text": [
            "[False False  True False  True False False  True False False  True]\n",
            "[15 42 45 90]\n"
          ]
        }
      ]
    }
  ]
}