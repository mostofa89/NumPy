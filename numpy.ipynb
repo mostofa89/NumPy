{
  "nbformat": 4,
  "nbformat_minor": 0,
  "metadata": {
    "colab": {
      "provenance": [],
      "authorship_tag": "ABX9TyPPIrLXLS0Ad5CcoZTizS2Z",
      "include_colab_link": true
    },
    "kernelspec": {
      "name": "python3",
      "display_name": "Python 3"
    },
    "language_info": {
      "name": "python"
    }
  },
  "cells": [
    {
      "cell_type": "markdown",
      "metadata": {
        "id": "view-in-github",
        "colab_type": "text"
      },
      "source": [
        "<a href=\"https://colab.research.google.com/github/mostofa89/NumPy/blob/main/numpy.ipynb\" target=\"_parent\"><img src=\"https://colab.research.google.com/assets/colab-badge.svg\" alt=\"Open In Colab\"/></a>"
      ]
    },
    {
      "cell_type": "code",
      "execution_count": 1,
      "metadata": {
        "id": "jXL9SCfHmB8N"
      },
      "outputs": [],
      "source": [
        "import numpy as np\n"
      ]
    },
    {
      "cell_type": "code",
      "source": [
        "nums = np.array([1, 2, 3])\n",
        "\n",
        "print(nums)"
      ],
      "metadata": {
        "colab": {
          "base_uri": "https://localhost:8080/"
        },
        "id": "x8z7pcdzu6fh",
        "outputId": "9039116c-0735-4c65-e958-e2f40ea1cb40"
      },
      "execution_count": 2,
      "outputs": [
        {
          "output_type": "stream",
          "name": "stdout",
          "text": [
            "[1 2 3]\n"
          ]
        }
      ]
    },
    {
      "cell_type": "code",
      "source": [
        "arr = np.array([[3.5, 4.5, 6], [7, 8, 9.10]])\n",
        "nums = np.array([1, 2, 3], dtype='int16')\n",
        "print(arr)\n",
        "print(arr.ndim)  # print Dimentions\n",
        "print(arr.shape) # Print Shape\n",
        "print(arr.dtype) # print the data type\n",
        "print(nums.dtype)\n",
        "print(arr.size) # to the length\n",
        "print(nums.itemsize) # return the size in bytes\n",
        "print(arr.itemsize)"
      ],
      "metadata": {
        "colab": {
          "base_uri": "https://localhost:8080/"
        },
        "id": "flktNWirwWX4",
        "outputId": "7aa4f5ea-2214-497a-afb8-4f7159cfb701"
      },
      "execution_count": 3,
      "outputs": [
        {
          "output_type": "stream",
          "name": "stdout",
          "text": [
            "[[3.5 4.5 6. ]\n",
            " [7.  8.  9.1]]\n",
            "2\n",
            "(2, 3)\n",
            "float64\n",
            "int16\n",
            "6\n",
            "2\n",
            "8\n"
          ]
        }
      ]
    },
    {
      "cell_type": "code",
      "source": [
        "#get Total size\n",
        "print(arr.nbytes)"
      ],
      "metadata": {
        "id": "qwcirk680gHD",
        "colab": {
          "base_uri": "https://localhost:8080/"
        },
        "outputId": "f4db2818-9632-4a1c-b9cc-2fb566a2e9e7"
      },
      "execution_count": 4,
      "outputs": [
        {
          "output_type": "stream",
          "name": "stdout",
          "text": [
            "48\n"
          ]
        }
      ]
    },
    {
      "cell_type": "code",
      "source": [
        "nums = np.array([[1, 2, 3], [4, 5, 6], [7, 8, 9]])\n",
        "print(nums)"
      ],
      "metadata": {
        "id": "uoQ5Ns0gqVFT",
        "outputId": "cfa1c290-0983-4630-c23a-b4a7fbc23b4b",
        "colab": {
          "base_uri": "https://localhost:8080/"
        }
      },
      "execution_count": 5,
      "outputs": [
        {
          "output_type": "stream",
          "name": "stdout",
          "text": [
            "[[1 2 3]\n",
            " [4 5 6]\n",
            " [7 8 9]]\n"
          ]
        }
      ]
    },
    {
      "cell_type": "code",
      "source": [
        "# get specific element [r, c]\n",
        "print(nums[2, 2])\n",
        "print(nums[2][2])"
      ],
      "metadata": {
        "id": "NWxIKGO8qnLU",
        "outputId": "0a7ee8a0-2150-4367-9e36-ff99affc2954",
        "colab": {
          "base_uri": "https://localhost:8080/"
        }
      },
      "execution_count": 6,
      "outputs": [
        {
          "output_type": "stream",
          "name": "stdout",
          "text": [
            "9\n",
            "9\n"
          ]
        }
      ]
    },
    {
      "cell_type": "code",
      "source": [
        "# get Specific row\n",
        "\n",
        "print(nums[1])\n",
        "print(nums[0, :])\n",
        "print(nums[:1]) # give nd Row"
      ],
      "metadata": {
        "id": "KNEY6ujurQEY",
        "outputId": "86815b4a-9343-4a8b-b916-c793c2f2c196",
        "colab": {
          "base_uri": "https://localhost:8080/"
        }
      },
      "execution_count": 7,
      "outputs": [
        {
          "output_type": "stream",
          "name": "stdout",
          "text": [
            "[4 5 6]\n",
            "[1 2 3]\n",
            "[[1 2 3]]\n"
          ]
        }
      ]
    },
    {
      "cell_type": "code",
      "source": [
        "# get specific column\n",
        "print(nums[ :, 2])"
      ],
      "metadata": {
        "id": "ZnVWJowewNC-",
        "outputId": "885ffd09-4a1b-4571-9e5d-587bb3e2b3ed",
        "colab": {
          "base_uri": "https://localhost:8080/"
        }
      },
      "execution_count": 8,
      "outputs": [
        {
          "output_type": "stream",
          "name": "stdout",
          "text": [
            "[3 6 9]\n"
          ]
        }
      ]
    },
    {
      "cell_type": "code",
      "source": [],
      "metadata": {
        "id": "TchipGa46XN3"
      },
      "execution_count": 8,
      "outputs": []
    },
    {
      "cell_type": "markdown",
      "source": [
        "#Slicing"
      ],
      "metadata": {
        "id": "rhvzEPpb7SdQ"
      }
    },
    {
      "cell_type": "code",
      "source": [
        "nums = np.arange(1, 10).reshape(3, 3)\n",
        "arr = np.arange(1, 10)"
      ],
      "metadata": {
        "id": "GGdPdrYW7WnB"
      },
      "execution_count": 9,
      "outputs": []
    },
    {
      "cell_type": "code",
      "source": [
        "print(nums[0:2])\n",
        "print(arr[0:2])"
      ],
      "metadata": {
        "id": "SA0a1l8w8UBj",
        "outputId": "aeca800f-ec79-42e3-d73d-ee03f3f6875e",
        "colab": {
          "base_uri": "https://localhost:8080/"
        }
      },
      "execution_count": 10,
      "outputs": [
        {
          "output_type": "stream",
          "name": "stdout",
          "text": [
            "[[1 2 3]\n",
            " [4 5 6]]\n",
            "[1 2]\n"
          ]
        }
      ]
    },
    {
      "cell_type": "code",
      "source": [
        "#need [5 6]\n",
        "print(nums[1][1:3])"
      ],
      "metadata": {
        "id": "OZTCR18Y8Z3b",
        "outputId": "a20c0865-6ccd-4073-9a84-e892df6921ce",
        "colab": {
          "base_uri": "https://localhost:8080/"
        }
      },
      "execution_count": 11,
      "outputs": [
        {
          "output_type": "stream",
          "name": "stdout",
          "text": [
            "[5 6]\n"
          ]
        }
      ]
    },
    {
      "cell_type": "code",
      "source": [
        "print(nums[1:3:1])\n",
        "print(arr[1:3:2])"
      ],
      "metadata": {
        "id": "-IZf7v6u8xDr",
        "outputId": "8ed64af2-1594-4542-98b7-088035f1601d",
        "colab": {
          "base_uri": "https://localhost:8080/"
        }
      },
      "execution_count": 12,
      "outputs": [
        {
          "output_type": "stream",
          "name": "stdout",
          "text": [
            "[[4 5 6]\n",
            " [7 8 9]]\n",
            "[2]\n"
          ]
        }
      ]
    },
    {
      "cell_type": "code",
      "source": [
        "# starting : ending : step\n",
        "print(arr[::2])\n",
        "print(nums[::1])"
      ],
      "metadata": {
        "id": "yATxtxyc-rWw",
        "outputId": "21c44e91-473d-489d-d298-643294e53073",
        "colab": {
          "base_uri": "https://localhost:8080/"
        }
      },
      "execution_count": 13,
      "outputs": [
        {
          "output_type": "stream",
          "name": "stdout",
          "text": [
            "[1 3 5 7 9]\n",
            "[[1 2 3]\n",
            " [4 5 6]\n",
            " [7 8 9]]\n"
          ]
        }
      ]
    },
    {
      "cell_type": "code",
      "source": [
        "# row, col-starting, ending\n",
        "print(nums[2, 0:3])\n",
        "print(nums[1, 1:3])"
      ],
      "metadata": {
        "id": "YJfHmTdN_uyw",
        "outputId": "aa93e005-6a78-4ae3-c5a4-c0746144dbd9",
        "colab": {
          "base_uri": "https://localhost:8080/"
        }
      },
      "execution_count": 14,
      "outputs": [
        {
          "output_type": "stream",
          "name": "stdout",
          "text": [
            "[7 8 9]\n",
            "[5 6]\n"
          ]
        }
      ]
    },
    {
      "cell_type": "code",
      "source": [
        "#row-staring:row-ending, col-number\n",
        "print(nums[1:3, 1])\n",
        "print(nums[0:3, 2])"
      ],
      "metadata": {
        "id": "yB9mbNp4_URs",
        "outputId": "b714f871-1f48-485b-afd6-b4ff82fb9690",
        "colab": {
          "base_uri": "https://localhost:8080/"
        }
      },
      "execution_count": 15,
      "outputs": [
        {
          "output_type": "stream",
          "name": "stdout",
          "text": [
            "[5 8]\n",
            "[3 6 9]\n"
          ]
        }
      ]
    },
    {
      "cell_type": "code",
      "source": [
        "#row-staring:row-ending, col-starting, col-ending\n",
        "print(nums[0:2, 1:4])"
      ],
      "metadata": {
        "id": "bpGveWkuCGEq",
        "outputId": "5ae16f15-f3e3-4082-eb76-3ddf6acb5caf",
        "colab": {
          "base_uri": "https://localhost:8080/"
        }
      },
      "execution_count": 16,
      "outputs": [
        {
          "output_type": "stream",
          "name": "stdout",
          "text": [
            "[[2 3]\n",
            " [5 6]]\n"
          ]
        }
      ]
    },
    {
      "cell_type": "markdown",
      "source": [
        "#Copy as View"
      ],
      "metadata": {
        "id": "TlHVYIdnNKOC"
      }
    },
    {
      "cell_type": "code",
      "source": [
        "arr = np.array([1, 2, 3, 4, 5])\n",
        "x = arr.copy()\n",
        "arr[0] = 42\n",
        "\n",
        "print(arr)\n",
        "print(x)"
      ],
      "metadata": {
        "colab": {
          "base_uri": "https://localhost:8080/"
        },
        "id": "sykVgsjqNMtA",
        "outputId": "c82fa46f-46bc-4568-a58f-8e4b62885ed5"
      },
      "execution_count": 17,
      "outputs": [
        {
          "output_type": "stream",
          "name": "stdout",
          "text": [
            "[42  2  3  4  5]\n",
            "[1 2 3 4 5]\n"
          ]
        }
      ]
    },
    {
      "cell_type": "code",
      "source": [
        "import numpy as np\n",
        "\n",
        "arr = np.array([1, 2, 3, 4, 5])\n",
        "x = arr.view()\n",
        "arr[0] = 42\n",
        "\n",
        "print(arr)\n",
        "print(x)"
      ],
      "metadata": {
        "colab": {
          "base_uri": "https://localhost:8080/"
        },
        "id": "1jAbkEr8NerB",
        "outputId": "e35c7c9c-a970-4dfe-f22b-fd87360bac60"
      },
      "execution_count": 18,
      "outputs": [
        {
          "output_type": "stream",
          "name": "stdout",
          "text": [
            "[42  2  3  4  5]\n",
            "[42  2  3  4  5]\n"
          ]
        }
      ]
    },
    {
      "cell_type": "code",
      "source": [
        "import numpy as np\n",
        "\n",
        "arr = np.array([1, 2, 3, 4, 5])\n",
        "\n",
        "x = arr.copy()\n",
        "y = arr.view()\n",
        "\n",
        "print(x.base)\n",
        "print(y.base)"
      ],
      "metadata": {
        "colab": {
          "base_uri": "https://localhost:8080/"
        },
        "id": "TWniloLqNoCY",
        "outputId": "cbac5c3a-e8e0-43a1-de5e-ba41967ba601"
      },
      "execution_count": 19,
      "outputs": [
        {
          "output_type": "stream",
          "name": "stdout",
          "text": [
            "None\n",
            "[1 2 3 4 5]\n"
          ]
        }
      ]
    },
    {
      "cell_type": "markdown",
      "source": [
        "#Shape"
      ],
      "metadata": {
        "id": "NrgvXk7aN0zL"
      }
    },
    {
      "cell_type": "code",
      "source": [
        "import numpy as np\n",
        "\n",
        "arr = np.array([1, 2, 3, 4, 5, 7], ndmin=4)\n",
        "\n",
        "print(arr)\n",
        "print('shape of array :', arr.shape)"
      ],
      "metadata": {
        "colab": {
          "base_uri": "https://localhost:8080/"
        },
        "id": "AIISSUlHN2Ok",
        "outputId": "68642bda-3958-4454-8140-a24ce110293d"
      },
      "execution_count": 20,
      "outputs": [
        {
          "output_type": "stream",
          "name": "stdout",
          "text": [
            "[[[[1 2 3 4 5 7]]]]\n",
            "shape of array : (1, 1, 1, 6)\n"
          ]
        }
      ]
    },
    {
      "cell_type": "markdown",
      "source": [
        "#Reshape"
      ],
      "metadata": {
        "id": "VeUEM5cvOPq8"
      }
    },
    {
      "cell_type": "code",
      "source": [
        "arr = np.array([1, 2, 3, 4, 5, 6, 7, 8, 9], ndmin=4)\n",
        "\n",
        "print(arr)\n",
        "nums = arr.reshape(3,3)\n",
        "print(nums)"
      ],
      "metadata": {
        "colab": {
          "base_uri": "https://localhost:8080/"
        },
        "id": "aV92NuBXORoU",
        "outputId": "fc7c684a-d6e9-42e8-b448-61a8007a857f"
      },
      "execution_count": 21,
      "outputs": [
        {
          "output_type": "stream",
          "name": "stdout",
          "text": [
            "[[[[1 2 3 4 5 6 7 8 9]]]]\n",
            "[[1 2 3]\n",
            " [4 5 6]\n",
            " [7 8 9]]\n"
          ]
        }
      ]
    },
    {
      "cell_type": "code",
      "source": [
        "arr = np.array([1, 2, 3, 4, 5, 6, 7, 8, 9, 10, 11, 12])\n",
        "\n",
        "newarr = arr.reshape(2, 3, 2)\n",
        "\n",
        "print(newarr)"
      ],
      "metadata": {
        "colab": {
          "base_uri": "https://localhost:8080/"
        },
        "id": "fBCC7A-WOtxt",
        "outputId": "970c45f0-4a3c-4180-8a3d-d8f614fa766b"
      },
      "execution_count": 22,
      "outputs": [
        {
          "output_type": "stream",
          "name": "stdout",
          "text": [
            "[[[ 1  2]\n",
            "  [ 3  4]\n",
            "  [ 5  6]]\n",
            "\n",
            " [[ 7  8]\n",
            "  [ 9 10]\n",
            "  [11 12]]]\n"
          ]
        }
      ]
    },
    {
      "cell_type": "code",
      "source": [
        "arr = np.array([1, 2, 3, 4, 5, 6, 7, 8])\n",
        "\n",
        "newarr = arr.reshape(2, 2, -1)\n",
        "\n",
        "print(newarr.base)"
      ],
      "metadata": {
        "colab": {
          "base_uri": "https://localhost:8080/"
        },
        "id": "nrcD5MMcO4uJ",
        "outputId": "0f7d43e9-dc45-4785-ce0b-06ff11c81aab"
      },
      "execution_count": 23,
      "outputs": [
        {
          "output_type": "stream",
          "name": "stdout",
          "text": [
            "[1 2 3 4 5 6 7 8]\n"
          ]
        }
      ]
    },
    {
      "cell_type": "code",
      "source": [
        "arr = np.array([[1, 2, 3], [4, 5, 6]])\n",
        "\n",
        "newarr = arr.reshape(1, 6)\n",
        "nums = arr.reshape(-1)\n",
        "\n",
        "print(newarr)\n",
        "print(nums)"
      ],
      "metadata": {
        "colab": {
          "base_uri": "https://localhost:8080/"
        },
        "id": "6-ETSWEFPAdZ",
        "outputId": "855d6923-f312-47a0-f03c-8ea17c6b8895"
      },
      "execution_count": 24,
      "outputs": [
        {
          "output_type": "stream",
          "name": "stdout",
          "text": [
            "[[1 2 3 4 5 6]]\n",
            "[1 2 3 4 5 6]\n"
          ]
        }
      ]
    },
    {
      "cell_type": "code",
      "source": [
        "ran=np.random.randint(1,11,9).reshape(3,3)\n",
        "print(ran)"
      ],
      "metadata": {
        "colab": {
          "base_uri": "https://localhost:8080/"
        },
        "id": "bUsVOUr8y0I-",
        "outputId": "8791812a-419b-413f-b155-2966420b4a8d"
      },
      "execution_count": 25,
      "outputs": [
        {
          "output_type": "stream",
          "name": "stdout",
          "text": [
            "[[6 6 1]\n",
            " [8 5 5]\n",
            " [4 3 9]]\n"
          ]
        }
      ]
    }
  ]
}