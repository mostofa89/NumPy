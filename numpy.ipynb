{
  "nbformat": 4,
  "nbformat_minor": 0,
  "metadata": {
    "colab": {
      "provenance": [],
      "authorship_tag": "ABX9TyPETNChTVUX3yEBJ/8JD2mz",
      "include_colab_link": true
    },
    "kernelspec": {
      "name": "python3",
      "display_name": "Python 3"
    },
    "language_info": {
      "name": "python"
    }
  },
  "cells": [
    {
      "cell_type": "markdown",
      "metadata": {
        "id": "view-in-github",
        "colab_type": "text"
      },
      "source": [
        "<a href=\"https://colab.research.google.com/github/mostofa89/NumPy/blob/main/numpy.ipynb\" target=\"_parent\"><img src=\"https://colab.research.google.com/assets/colab-badge.svg\" alt=\"Open In Colab\"/></a>"
      ]
    },
    {
      "cell_type": "code",
      "execution_count": 1,
      "metadata": {
        "id": "jXL9SCfHmB8N"
      },
      "outputs": [],
      "source": [
        "import numpy as np\n"
      ]
    },
    {
      "cell_type": "code",
      "source": [
        "nums = np.array([1, 2, 3])\n",
        "\n",
        "print(nums)"
      ],
      "metadata": {
        "colab": {
          "base_uri": "https://localhost:8080/"
        },
        "id": "x8z7pcdzu6fh",
        "outputId": "ea21684c-2518-47ed-8cdb-daa3ae9218a6"
      },
      "execution_count": 2,
      "outputs": [
        {
          "output_type": "stream",
          "name": "stdout",
          "text": [
            "[1 2 3]\n"
          ]
        }
      ]
    },
    {
      "cell_type": "code",
      "source": [
        "arr = np.array([[3.5, 4.5, 6], [7, 8, 9.10]])\n",
        "nums = np.array([1, 2, 3], dtype='int16')\n",
        "print(arr)\n",
        "print(arr.ndim)  # print Dimentions\n",
        "print(arr.shape) # Print Shape\n",
        "print(arr.dtype) # print the data type\n",
        "print(nums.dtype)\n",
        "print(arr.size) # to the length\n",
        "print(nums.itemsize) # return the size in bytes\n",
        "print(arr.itemsize)"
      ],
      "metadata": {
        "colab": {
          "base_uri": "https://localhost:8080/"
        },
        "id": "flktNWirwWX4",
        "outputId": "f8701895-2d48-4f45-cd55-5eccee31d063"
      },
      "execution_count": 3,
      "outputs": [
        {
          "output_type": "stream",
          "name": "stdout",
          "text": [
            "[[3.5 4.5 6. ]\n",
            " [7.  8.  9.1]]\n",
            "2\n",
            "(2, 3)\n",
            "float64\n",
            "int16\n",
            "6\n",
            "2\n",
            "8\n"
          ]
        }
      ]
    },
    {
      "cell_type": "code",
      "source": [],
      "metadata": {
        "id": "qwcirk680gHD"
      },
      "execution_count": null,
      "outputs": []
    },
    {
      "cell_type": "code",
      "source": [
        "arr1=np.arange(1,10)\n",
        "print(arr1)\n",
        "arr2=np.arange(1,10).reshape(3,3)\n",
        "print(arr2)\n",
        "\n",
        "eight=np.where(arr1%2==0)\n",
        "print(eight)"
      ],
      "metadata": {
        "colab": {
          "base_uri": "https://localhost:8080/"
        },
        "id": "42ey-TXTxmPP",
        "outputId": "6784eb78-83bd-439c-f22f-34d693209877"
      },
      "execution_count": null,
      "outputs": [
        {
          "output_type": "stream",
          "name": "stdout",
          "text": [
            "[1 2 3 4 5 6 7 8 9]\n",
            "[[1 2 3]\n",
            " [4 5 6]\n",
            " [7 8 9]]\n",
            "(array([1, 3, 5, 7]),)\n"
          ]
        }
      ]
    },
    {
      "cell_type": "code",
      "source": [
        "ran=np.random.randint(1,11,4).reshape(2,2)\n",
        "print(ran)"
      ],
      "metadata": {
        "colab": {
          "base_uri": "https://localhost:8080/"
        },
        "id": "bUsVOUr8y0I-",
        "outputId": "79b91b4f-5024-4098-d65e-3b2b33eb0a2b"
      },
      "execution_count": null,
      "outputs": [
        {
          "output_type": "stream",
          "name": "stdout",
          "text": [
            "[[10  5]\n",
            " [ 3 10]]\n"
          ]
        }
      ]
    }
  ]
}