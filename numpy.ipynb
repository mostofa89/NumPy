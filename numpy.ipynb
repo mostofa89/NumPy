{
  "nbformat": 4,
  "nbformat_minor": 0,
  "metadata": {
    "colab": {
      "provenance": [],
      "authorship_tag": "ABX9TyN5zWuaQRvvFX9V8U0t/KQG",
      "include_colab_link": true
    },
    "kernelspec": {
      "name": "python3",
      "display_name": "Python 3"
    },
    "language_info": {
      "name": "python"
    }
  },
  "cells": [
    {
      "cell_type": "markdown",
      "metadata": {
        "id": "view-in-github",
        "colab_type": "text"
      },
      "source": [
        "<a href=\"https://colab.research.google.com/github/mostofa89/NumPy/blob/main/numpy.ipynb\" target=\"_parent\"><img src=\"https://colab.research.google.com/assets/colab-badge.svg\" alt=\"Open In Colab\"/></a>"
      ]
    },
    {
      "cell_type": "code",
      "execution_count": 1,
      "metadata": {
        "id": "jXL9SCfHmB8N"
      },
      "outputs": [],
      "source": [
        "import numpy as np\n"
      ]
    },
    {
      "cell_type": "code",
      "source": [
        "nums = np.array([1, 2, 3])\n",
        "\n",
        "print(nums)"
      ],
      "metadata": {
        "colab": {
          "base_uri": "https://localhost:8080/"
        },
        "id": "x8z7pcdzu6fh",
        "outputId": "d3a3dee5-2cc3-44b5-ba58-63ae904ee45c"
      },
      "execution_count": 2,
      "outputs": [
        {
          "output_type": "stream",
          "name": "stdout",
          "text": [
            "[1 2 3]\n"
          ]
        }
      ]
    },
    {
      "cell_type": "code",
      "source": [
        "arr = np.array([[3.5, 4.5, 6], [7, 8, 9.10]])\n",
        "nums = np.array([1, 2, 3], dtype='int16')\n",
        "print(arr)\n",
        "print(arr.ndim)  # print Dimentions\n",
        "print(arr.shape) # Print Shape\n",
        "print(arr.dtype) # print the data type\n",
        "print(nums.dtype)\n",
        "print(arr.size) # to the length\n",
        "print(nums.itemsize) # return the size in bytes\n",
        "print(arr.itemsize)"
      ],
      "metadata": {
        "colab": {
          "base_uri": "https://localhost:8080/"
        },
        "id": "flktNWirwWX4",
        "outputId": "d334fe0c-f5b2-487f-b36e-adbf98b07aa4"
      },
      "execution_count": 3,
      "outputs": [
        {
          "output_type": "stream",
          "name": "stdout",
          "text": [
            "[[3.5 4.5 6. ]\n",
            " [7.  8.  9.1]]\n",
            "2\n",
            "(2, 3)\n",
            "float64\n",
            "int16\n",
            "6\n",
            "2\n",
            "8\n"
          ]
        }
      ]
    },
    {
      "cell_type": "code",
      "source": [
        "#get Total size\n",
        "print(arr.nbytes)"
      ],
      "metadata": {
        "id": "qwcirk680gHD",
        "colab": {
          "base_uri": "https://localhost:8080/"
        },
        "outputId": "ffcc46e2-d69b-463a-813c-7751ae2430b3"
      },
      "execution_count": 6,
      "outputs": [
        {
          "output_type": "stream",
          "name": "stdout",
          "text": [
            "48\n"
          ]
        }
      ]
    },
    {
      "cell_type": "code",
      "source": [
        "nums = np.array([[1, 2, 3], [4, 5, 6], [7, 8, 9]])\n",
        "print(nums)"
      ],
      "metadata": {
        "id": "uoQ5Ns0gqVFT",
        "outputId": "aafb4e56-0c3b-43d6-eace-9f2b3bdc10f3",
        "colab": {
          "base_uri": "https://localhost:8080/"
        }
      },
      "execution_count": 3,
      "outputs": [
        {
          "output_type": "stream",
          "name": "stdout",
          "text": [
            "[[1 2 3]\n",
            " [4 5 6]\n",
            " [7 8 9]]\n"
          ]
        }
      ]
    },
    {
      "cell_type": "code",
      "source": [
        "# get specific element [r, c]\n",
        "print(nums[2, 2])\n",
        "print(nums[2][2])"
      ],
      "metadata": {
        "id": "NWxIKGO8qnLU",
        "outputId": "44a5e191-a681-409b-f91a-515a19e79af5",
        "colab": {
          "base_uri": "https://localhost:8080/"
        }
      },
      "execution_count": 4,
      "outputs": [
        {
          "output_type": "stream",
          "name": "stdout",
          "text": [
            "9\n",
            "9\n"
          ]
        }
      ]
    },
    {
      "cell_type": "code",
      "source": [
        "# get Specific row\n",
        "\n",
        "print(nums[1])\n",
        "print(nums[0, :])\n",
        "print(nums[:1]) # give nd Row"
      ],
      "metadata": {
        "id": "KNEY6ujurQEY",
        "outputId": "d102192f-1582-4ec0-fb14-526633245d52",
        "colab": {
          "base_uri": "https://localhost:8080/"
        }
      },
      "execution_count": 17,
      "outputs": [
        {
          "output_type": "stream",
          "name": "stdout",
          "text": [
            "[4 5 6]\n",
            "[1 2 3]\n",
            "[[1 2 3]]\n"
          ]
        }
      ]
    },
    {
      "cell_type": "code",
      "source": [
        "# get specific column\n",
        "print(nums[ :, 2])"
      ],
      "metadata": {
        "id": "ZnVWJowewNC-",
        "outputId": "63da7161-5c74-4698-99f0-360682483e21",
        "colab": {
          "base_uri": "https://localhost:8080/"
        }
      },
      "execution_count": 9,
      "outputs": [
        {
          "output_type": "stream",
          "name": "stdout",
          "text": [
            "[3 6 9]\n"
          ]
        }
      ]
    },
    {
      "cell_type": "code",
      "source": [],
      "metadata": {
        "id": "TchipGa46XN3"
      },
      "execution_count": null,
      "outputs": []
    },
    {
      "cell_type": "markdown",
      "source": [
        "#Slicing"
      ],
      "metadata": {
        "id": "rhvzEPpb7SdQ"
      }
    },
    {
      "cell_type": "code",
      "source": [
        "nums = np.arange(1, 10).reshape(3, 3)\n",
        "arr = np.arange(1, 10)"
      ],
      "metadata": {
        "id": "GGdPdrYW7WnB"
      },
      "execution_count": 34,
      "outputs": []
    },
    {
      "cell_type": "code",
      "source": [
        "print(nums[0:2])\n",
        "print(arr[0:2])"
      ],
      "metadata": {
        "id": "SA0a1l8w8UBj",
        "outputId": "a6419a59-584a-4ad2-fbd1-e742f4aa3330",
        "colab": {
          "base_uri": "https://localhost:8080/"
        }
      },
      "execution_count": 36,
      "outputs": [
        {
          "output_type": "stream",
          "name": "stdout",
          "text": [
            "[[1 2 3]\n",
            " [4 5 6]]\n",
            "[1 2]\n"
          ]
        }
      ]
    },
    {
      "cell_type": "code",
      "source": [
        "#need [5 6]\n",
        "print(nums[1][1:3])"
      ],
      "metadata": {
        "id": "OZTCR18Y8Z3b",
        "outputId": "8b369513-a278-4e5a-ae53-4b615d483481",
        "colab": {
          "base_uri": "https://localhost:8080/"
        }
      },
      "execution_count": 20,
      "outputs": [
        {
          "output_type": "stream",
          "name": "stdout",
          "text": [
            "[5 6]\n"
          ]
        }
      ]
    },
    {
      "cell_type": "code",
      "source": [
        "print(nums[1:3:1])\n",
        "print(arr[1:3:2])"
      ],
      "metadata": {
        "id": "-IZf7v6u8xDr",
        "outputId": "4f531bb5-1760-42ae-9933-46d91a41fb0c",
        "colab": {
          "base_uri": "https://localhost:8080/"
        }
      },
      "execution_count": 37,
      "outputs": [
        {
          "output_type": "stream",
          "name": "stdout",
          "text": [
            "[[4 5 6]\n",
            " [7 8 9]]\n",
            "[2]\n"
          ]
        }
      ]
    },
    {
      "cell_type": "code",
      "source": [
        "# starting : ending : step\n",
        "print(arr[::2])\n",
        "print(nums[::1])"
      ],
      "metadata": {
        "id": "yATxtxyc-rWw",
        "outputId": "ae77532e-e773-4f7d-923a-2a4123a6fc20",
        "colab": {
          "base_uri": "https://localhost:8080/"
        }
      },
      "execution_count": 52,
      "outputs": [
        {
          "output_type": "stream",
          "name": "stdout",
          "text": [
            "[1 3 5 7 9]\n",
            "[[1 2 3]\n",
            " [4 5 6]\n",
            " [7 8 9]]\n"
          ]
        }
      ]
    },
    {
      "cell_type": "code",
      "source": [
        "# row, col-starting, ending\n",
        "print(nums[2, 0:3])\n",
        "print(nums[1, 1:3])"
      ],
      "metadata": {
        "id": "YJfHmTdN_uyw",
        "outputId": "04a06073-3f9e-4649-f11a-996d4deea116",
        "colab": {
          "base_uri": "https://localhost:8080/"
        }
      },
      "execution_count": 58,
      "outputs": [
        {
          "output_type": "stream",
          "name": "stdout",
          "text": [
            "[7 8 9]\n",
            "[5 6]\n"
          ]
        }
      ]
    },
    {
      "cell_type": "code",
      "source": [
        "#row-staring:row-ending, col-number\n",
        "print(nums[1:3, 1])\n",
        "print(nums[0:3, 2])"
      ],
      "metadata": {
        "id": "yB9mbNp4_URs",
        "outputId": "cdd3a5f5-88b5-4111-e68e-ccee316b9cea",
        "colab": {
          "base_uri": "https://localhost:8080/"
        }
      },
      "execution_count": 64,
      "outputs": [
        {
          "output_type": "stream",
          "name": "stdout",
          "text": [
            "[5 8]\n",
            "[3 6 9]\n"
          ]
        }
      ]
    },
    {
      "cell_type": "code",
      "source": [
        "#row-staring:row-ending, col-starting, col-ending\n",
        "print(nums[0:2, 1:4])"
      ],
      "metadata": {
        "id": "bpGveWkuCGEq",
        "outputId": "09ca97a0-894a-4d46-de0f-2ecdd3bee811",
        "colab": {
          "base_uri": "https://localhost:8080/"
        }
      },
      "execution_count": 68,
      "outputs": [
        {
          "output_type": "stream",
          "name": "stdout",
          "text": [
            "[[2 3]\n",
            " [5 6]]\n"
          ]
        }
      ]
    },
    {
      "cell_type": "code",
      "source": [
        "ran=np.random.randint(1,11,9).reshape(3,3)\n",
        "print(ran)"
      ],
      "metadata": {
        "colab": {
          "base_uri": "https://localhost:8080/"
        },
        "id": "bUsVOUr8y0I-",
        "outputId": "139ab0ed-e86b-431c-a0fb-f36f1273a0ab"
      },
      "execution_count": 65,
      "outputs": [
        {
          "output_type": "stream",
          "name": "stdout",
          "text": [
            "[[9 9 5]\n",
            " [4 4 3]\n",
            " [7 9 3]]\n"
          ]
        }
      ]
    }
  ]
}