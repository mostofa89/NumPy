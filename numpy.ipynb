{
  "nbformat": 4,
  "nbformat_minor": 0,
  "metadata": {
    "colab": {
      "provenance": [],
      "authorship_tag": "ABX9TyPUT0IPmL9hmdHItQnLQMHT",
      "include_colab_link": true
    },
    "kernelspec": {
      "name": "python3",
      "display_name": "Python 3"
    },
    "language_info": {
      "name": "python"
    }
  },
  "cells": [
    {
      "cell_type": "markdown",
      "metadata": {
        "id": "view-in-github",
        "colab_type": "text"
      },
      "source": [
        "<a href=\"https://colab.research.google.com/github/mostofa89/NumPy/blob/main/numpy.ipynb\" target=\"_parent\"><img src=\"https://colab.research.google.com/assets/colab-badge.svg\" alt=\"Open In Colab\"/></a>"
      ]
    },
    {
      "cell_type": "code",
      "execution_count": 6,
      "metadata": {
        "id": "jXL9SCfHmB8N"
      },
      "outputs": [],
      "source": [
        "import numpy as np\n"
      ]
    },
    {
      "cell_type": "code",
      "source": [
        "nums = np.array([1, 2, 3])\n",
        "\n",
        "print(nums)"
      ],
      "metadata": {
        "colab": {
          "base_uri": "https://localhost:8080/"
        },
        "id": "x8z7pcdzu6fh",
        "outputId": "ed6b27d4-2206-42ef-c784-67e55c4cb997"
      },
      "execution_count": 7,
      "outputs": [
        {
          "output_type": "stream",
          "name": "stdout",
          "text": [
            "[1 2 3]\n"
          ]
        }
      ]
    },
    {
      "cell_type": "code",
      "source": [
        "arr = np.array([[3.5, 4.5, 6], [7, 8, 9.10]])\n",
        "nums = np.array([1, 2, 3], dtype='int16')\n",
        "print(arr)\n",
        "print(arr.ndim)  # print Dimentions\n",
        "print(arr.shape) # Print Shape\n",
        "print(arr.dtype) # print the data type\n",
        "print(nums.dtype)\n",
        "print(arr.size) # to the length\n",
        "print(nums.itemsize) # return the size in bytes\n",
        "print(arr.itemsize)"
      ],
      "metadata": {
        "colab": {
          "base_uri": "https://localhost:8080/"
        },
        "id": "flktNWirwWX4",
        "outputId": "0c696bc1-87a7-4ed4-fcf8-815b9bb35bd4"
      },
      "execution_count": 8,
      "outputs": [
        {
          "output_type": "stream",
          "name": "stdout",
          "text": [
            "[[3.5 4.5 6. ]\n",
            " [7.  8.  9.1]]\n",
            "2\n",
            "(2, 3)\n",
            "float64\n",
            "int16\n",
            "6\n",
            "2\n",
            "8\n"
          ]
        }
      ]
    },
    {
      "cell_type": "code",
      "source": [
        "#get Total size\n",
        "print(arr.nbytes)"
      ],
      "metadata": {
        "id": "qwcirk680gHD",
        "colab": {
          "base_uri": "https://localhost:8080/"
        },
        "outputId": "d9736a20-1f8b-496b-917e-09397a3070a0"
      },
      "execution_count": 9,
      "outputs": [
        {
          "output_type": "stream",
          "name": "stdout",
          "text": [
            "48\n"
          ]
        }
      ]
    },
    {
      "cell_type": "code",
      "source": [
        "nums = np.array([[1, 2, 3], [4, 5, 6], [7, 8, 9]])\n",
        "print(nums)"
      ],
      "metadata": {
        "id": "uoQ5Ns0gqVFT",
        "outputId": "19a4ae33-66c9-4af9-b153-926dd9c056c2",
        "colab": {
          "base_uri": "https://localhost:8080/"
        }
      },
      "execution_count": 10,
      "outputs": [
        {
          "output_type": "stream",
          "name": "stdout",
          "text": [
            "[[1 2 3]\n",
            " [4 5 6]\n",
            " [7 8 9]]\n"
          ]
        }
      ]
    },
    {
      "cell_type": "code",
      "source": [
        "# get specific element [r, c]\n",
        "print(nums[2, 2])\n",
        "print(nums[2][2])"
      ],
      "metadata": {
        "id": "NWxIKGO8qnLU",
        "outputId": "10be7953-fe56-48b7-9055-7d581e62f32c",
        "colab": {
          "base_uri": "https://localhost:8080/"
        }
      },
      "execution_count": 11,
      "outputs": [
        {
          "output_type": "stream",
          "name": "stdout",
          "text": [
            "9\n",
            "9\n"
          ]
        }
      ]
    },
    {
      "cell_type": "code",
      "source": [
        "# get Specific row\n",
        "\n",
        "print(nums[1])\n",
        "print(nums[0, :])\n",
        "print(nums[:1]) # give nd Row"
      ],
      "metadata": {
        "id": "KNEY6ujurQEY",
        "outputId": "76e15de2-9938-4803-cfb4-5833c3c06d30",
        "colab": {
          "base_uri": "https://localhost:8080/"
        }
      },
      "execution_count": 12,
      "outputs": [
        {
          "output_type": "stream",
          "name": "stdout",
          "text": [
            "[4 5 6]\n",
            "[1 2 3]\n",
            "[[1 2 3]]\n"
          ]
        }
      ]
    },
    {
      "cell_type": "code",
      "source": [
        "# get specific column\n",
        "print(nums[ :, 2])"
      ],
      "metadata": {
        "id": "ZnVWJowewNC-",
        "outputId": "e73e56be-b201-4956-8e5d-f056d2c11c6c",
        "colab": {
          "base_uri": "https://localhost:8080/"
        }
      },
      "execution_count": 13,
      "outputs": [
        {
          "output_type": "stream",
          "name": "stdout",
          "text": [
            "[3 6 9]\n"
          ]
        }
      ]
    },
    {
      "cell_type": "code",
      "source": [],
      "metadata": {
        "id": "TchipGa46XN3"
      },
      "execution_count": 13,
      "outputs": []
    },
    {
      "cell_type": "markdown",
      "source": [
        "#Slicing"
      ],
      "metadata": {
        "id": "rhvzEPpb7SdQ"
      }
    },
    {
      "cell_type": "code",
      "source": [
        "nums = np.arange(1, 10).reshape(3, 3)\n",
        "arr = np.arange(1, 10)"
      ],
      "metadata": {
        "id": "GGdPdrYW7WnB"
      },
      "execution_count": 14,
      "outputs": []
    },
    {
      "cell_type": "code",
      "source": [
        "print(nums[0:2])\n",
        "print(arr[0:2])"
      ],
      "metadata": {
        "id": "SA0a1l8w8UBj",
        "outputId": "59bd3e45-d5de-464b-fdb9-150a64242be7",
        "colab": {
          "base_uri": "https://localhost:8080/"
        }
      },
      "execution_count": 15,
      "outputs": [
        {
          "output_type": "stream",
          "name": "stdout",
          "text": [
            "[[1 2 3]\n",
            " [4 5 6]]\n",
            "[1 2]\n"
          ]
        }
      ]
    },
    {
      "cell_type": "code",
      "source": [
        "#need [5 6]\n",
        "print(nums[1][1:3])"
      ],
      "metadata": {
        "id": "OZTCR18Y8Z3b",
        "outputId": "58a4e5f7-0cb9-463e-c74c-937df8284d14",
        "colab": {
          "base_uri": "https://localhost:8080/"
        }
      },
      "execution_count": 16,
      "outputs": [
        {
          "output_type": "stream",
          "name": "stdout",
          "text": [
            "[5 6]\n"
          ]
        }
      ]
    },
    {
      "cell_type": "code",
      "source": [
        "print(nums[1:3:1])\n",
        "print(arr[1:3:2])"
      ],
      "metadata": {
        "id": "-IZf7v6u8xDr",
        "outputId": "cfaafb30-8501-43bd-e0ca-27f239d6b3a7",
        "colab": {
          "base_uri": "https://localhost:8080/"
        }
      },
      "execution_count": 17,
      "outputs": [
        {
          "output_type": "stream",
          "name": "stdout",
          "text": [
            "[[4 5 6]\n",
            " [7 8 9]]\n",
            "[2]\n"
          ]
        }
      ]
    },
    {
      "cell_type": "code",
      "source": [
        "# starting : ending : step\n",
        "print(arr[::2])\n",
        "print(nums[::1])"
      ],
      "metadata": {
        "id": "yATxtxyc-rWw",
        "outputId": "63e0192a-0101-4ced-d94e-e3ab897553d1",
        "colab": {
          "base_uri": "https://localhost:8080/"
        }
      },
      "execution_count": 18,
      "outputs": [
        {
          "output_type": "stream",
          "name": "stdout",
          "text": [
            "[1 3 5 7 9]\n",
            "[[1 2 3]\n",
            " [4 5 6]\n",
            " [7 8 9]]\n"
          ]
        }
      ]
    },
    {
      "cell_type": "code",
      "source": [
        "# row, col-starting, ending\n",
        "print(nums[2, 0:3])\n",
        "print(nums[1, 1:3])"
      ],
      "metadata": {
        "id": "YJfHmTdN_uyw",
        "outputId": "1ade3d34-51eb-4db7-8f03-4075ee5c81ab",
        "colab": {
          "base_uri": "https://localhost:8080/"
        }
      },
      "execution_count": 19,
      "outputs": [
        {
          "output_type": "stream",
          "name": "stdout",
          "text": [
            "[7 8 9]\n",
            "[5 6]\n"
          ]
        }
      ]
    },
    {
      "cell_type": "code",
      "source": [
        "#row-staring:row-ending, col-number\n",
        "print(nums[1:3, 1])\n",
        "print(nums[0:3, 2])"
      ],
      "metadata": {
        "id": "yB9mbNp4_URs",
        "outputId": "cb4f54d7-00e0-4571-dd25-7094c11f23db",
        "colab": {
          "base_uri": "https://localhost:8080/"
        }
      },
      "execution_count": 20,
      "outputs": [
        {
          "output_type": "stream",
          "name": "stdout",
          "text": [
            "[5 8]\n",
            "[3 6 9]\n"
          ]
        }
      ]
    },
    {
      "cell_type": "code",
      "source": [
        "#row-staring:row-ending, col-starting, col-ending\n",
        "print(nums[0:2, 1:4])"
      ],
      "metadata": {
        "id": "bpGveWkuCGEq",
        "outputId": "f181b12f-03da-42b4-ad6b-909d0661bacd",
        "colab": {
          "base_uri": "https://localhost:8080/"
        }
      },
      "execution_count": 21,
      "outputs": [
        {
          "output_type": "stream",
          "name": "stdout",
          "text": [
            "[[2 3]\n",
            " [5 6]]\n"
          ]
        }
      ]
    },
    {
      "cell_type": "markdown",
      "source": [
        "#Copy as View"
      ],
      "metadata": {
        "id": "TlHVYIdnNKOC"
      }
    },
    {
      "cell_type": "code",
      "source": [
        "arr = np.array([1, 2, 3, 4, 5])\n",
        "x = arr.copy()\n",
        "arr[0] = 42\n",
        "\n",
        "print(arr)\n",
        "print(x)"
      ],
      "metadata": {
        "colab": {
          "base_uri": "https://localhost:8080/"
        },
        "id": "sykVgsjqNMtA",
        "outputId": "fbc3a5e8-8768-43b2-b9ea-e463435e321e"
      },
      "execution_count": 22,
      "outputs": [
        {
          "output_type": "stream",
          "name": "stdout",
          "text": [
            "[42  2  3  4  5]\n",
            "[1 2 3 4 5]\n"
          ]
        }
      ]
    },
    {
      "cell_type": "code",
      "source": [
        "import numpy as np\n",
        "\n",
        "arr = np.array([1, 2, 3, 4, 5])\n",
        "x = arr.view()\n",
        "arr[0] = 42\n",
        "\n",
        "print(arr)\n",
        "print(x)"
      ],
      "metadata": {
        "colab": {
          "base_uri": "https://localhost:8080/"
        },
        "id": "1jAbkEr8NerB",
        "outputId": "adbd8e05-e922-4b60-d693-f5da4a53ee9f"
      },
      "execution_count": 23,
      "outputs": [
        {
          "output_type": "stream",
          "name": "stdout",
          "text": [
            "[42  2  3  4  5]\n",
            "[42  2  3  4  5]\n"
          ]
        }
      ]
    },
    {
      "cell_type": "code",
      "source": [
        "import numpy as np\n",
        "\n",
        "arr = np.array([1, 2, 3, 4, 5])\n",
        "\n",
        "x = arr.copy()\n",
        "y = arr.view()\n",
        "\n",
        "print(x.base)\n",
        "print(y.base)"
      ],
      "metadata": {
        "colab": {
          "base_uri": "https://localhost:8080/"
        },
        "id": "TWniloLqNoCY",
        "outputId": "1b522d5e-4ef4-447c-9e5a-a25e00a664d3"
      },
      "execution_count": 24,
      "outputs": [
        {
          "output_type": "stream",
          "name": "stdout",
          "text": [
            "None\n",
            "[1 2 3 4 5]\n"
          ]
        }
      ]
    },
    {
      "cell_type": "markdown",
      "source": [
        "#Shape"
      ],
      "metadata": {
        "id": "NrgvXk7aN0zL"
      }
    },
    {
      "cell_type": "code",
      "source": [
        "import numpy as np\n",
        "\n",
        "arr = np.array([1, 2, 3, 4, 5, 7], ndmin=4)\n",
        "\n",
        "print(arr)\n",
        "print('shape of array :', arr.shape)"
      ],
      "metadata": {
        "colab": {
          "base_uri": "https://localhost:8080/"
        },
        "id": "AIISSUlHN2Ok",
        "outputId": "d1bdc03b-b4cb-4ec5-8896-45050eca4821"
      },
      "execution_count": 25,
      "outputs": [
        {
          "output_type": "stream",
          "name": "stdout",
          "text": [
            "[[[[1 2 3 4 5 7]]]]\n",
            "shape of array : (1, 1, 1, 6)\n"
          ]
        }
      ]
    },
    {
      "cell_type": "markdown",
      "source": [
        "#Reshape"
      ],
      "metadata": {
        "id": "VeUEM5cvOPq8"
      }
    },
    {
      "cell_type": "code",
      "source": [
        "arr = np.array([1, 2, 3, 4, 5, 6, 7, 8, 9], ndmin=4)\n",
        "\n",
        "print(arr)\n",
        "nums = arr.reshape(3,3)\n",
        "print(nums)"
      ],
      "metadata": {
        "colab": {
          "base_uri": "https://localhost:8080/"
        },
        "id": "aV92NuBXORoU",
        "outputId": "a7606769-97c1-45ef-e2b9-09b8e7a857aa"
      },
      "execution_count": 26,
      "outputs": [
        {
          "output_type": "stream",
          "name": "stdout",
          "text": [
            "[[[[1 2 3 4 5 6 7 8 9]]]]\n",
            "[[1 2 3]\n",
            " [4 5 6]\n",
            " [7 8 9]]\n"
          ]
        }
      ]
    },
    {
      "cell_type": "code",
      "source": [
        "arr = np.array([1, 2, 3, 4, 5, 6, 7, 8, 9, 10, 11, 12])\n",
        "\n",
        "newarr = arr.reshape(2, 3, 2)\n",
        "\n",
        "print(newarr)"
      ],
      "metadata": {
        "colab": {
          "base_uri": "https://localhost:8080/"
        },
        "id": "fBCC7A-WOtxt",
        "outputId": "cd40949c-9a32-45f9-ee37-ccecd8240a60"
      },
      "execution_count": 27,
      "outputs": [
        {
          "output_type": "stream",
          "name": "stdout",
          "text": [
            "[[[ 1  2]\n",
            "  [ 3  4]\n",
            "  [ 5  6]]\n",
            "\n",
            " [[ 7  8]\n",
            "  [ 9 10]\n",
            "  [11 12]]]\n"
          ]
        }
      ]
    },
    {
      "cell_type": "code",
      "source": [
        "arr = np.array([1, 2, 3, 4, 5, 6, 7, 8])\n",
        "\n",
        "newarr = arr.reshape(2, 2, -1)\n",
        "\n",
        "print(newarr.base)"
      ],
      "metadata": {
        "colab": {
          "base_uri": "https://localhost:8080/"
        },
        "id": "nrcD5MMcO4uJ",
        "outputId": "8a67d23f-3a2c-4d7d-b0f5-a10c3fd9782d"
      },
      "execution_count": 28,
      "outputs": [
        {
          "output_type": "stream",
          "name": "stdout",
          "text": [
            "[1 2 3 4 5 6 7 8]\n"
          ]
        }
      ]
    },
    {
      "cell_type": "code",
      "source": [
        "arr = np.array([[1, 2, 3], [4, 5, 6]])\n",
        "\n",
        "newarr = arr.reshape(1, 6)\n",
        "nums = arr.reshape(-1)\n",
        "\n",
        "print(newarr)\n",
        "print(nums)"
      ],
      "metadata": {
        "colab": {
          "base_uri": "https://localhost:8080/"
        },
        "id": "6-ETSWEFPAdZ",
        "outputId": "e3ad161f-34a0-4de5-887c-5ebf685a68e8"
      },
      "execution_count": 29,
      "outputs": [
        {
          "output_type": "stream",
          "name": "stdout",
          "text": [
            "[[1 2 3 4 5 6]]\n",
            "[1 2 3 4 5 6]\n"
          ]
        }
      ]
    },
    {
      "cell_type": "markdown",
      "source": [
        "#Iterating Numpy Array"
      ],
      "metadata": {
        "id": "H8seZlecQtx5"
      }
    },
    {
      "cell_type": "code",
      "source": [
        "arr = np.array([1, 2, 3])\n",
        "\n",
        "for x in arr:\n",
        "  print(x, end = \" \")"
      ],
      "metadata": {
        "colab": {
          "base_uri": "https://localhost:8080/"
        },
        "id": "0KRZ7tTJQ2hI",
        "outputId": "4951a968-cd83-4f68-a218-f8aa44bbef9c"
      },
      "execution_count": 30,
      "outputs": [
        {
          "output_type": "stream",
          "name": "stdout",
          "text": [
            "1 2 3 "
          ]
        }
      ]
    },
    {
      "cell_type": "code",
      "source": [
        "arr = np.array([[1, 2, 3], [4, 5, 6]]) # 2d Array\n",
        "\n",
        "for x in arr:\n",
        "  print(x)"
      ],
      "metadata": {
        "colab": {
          "base_uri": "https://localhost:8080/"
        },
        "id": "-5lFX9NzRBwc",
        "outputId": "98ef00f3-d339-4ad9-f511-c1f51a0702f5"
      },
      "execution_count": 31,
      "outputs": [
        {
          "output_type": "stream",
          "name": "stdout",
          "text": [
            "[1 2 3]\n",
            "[4 5 6]\n"
          ]
        }
      ]
    },
    {
      "cell_type": "code",
      "source": [
        "arr = np.array([[1, 2, 3], [4, 5, 6]]) # 2d Array\n",
        "\n",
        "for items in arr:\n",
        "  for i in items:\n",
        "    print(i, end = \" \")"
      ],
      "metadata": {
        "colab": {
          "base_uri": "https://localhost:8080/"
        },
        "id": "lTBVf3yHRHjT",
        "outputId": "0b90aa5e-d33c-4707-d8b1-68d312485e25"
      },
      "execution_count": 32,
      "outputs": [
        {
          "output_type": "stream",
          "name": "stdout",
          "text": [
            "1 2 3 4 5 6 "
          ]
        }
      ]
    },
    {
      "cell_type": "code",
      "source": [
        "arr = np.array([[[1, 2, 3], [4, 5, 6]], [[7, 8, 9], [10, 11, 12]]]) # 3d Array\n",
        "\n",
        "for x in arr:\n",
        "  for y in x:\n",
        "    for z in y:\n",
        "      print(z, end = \" \")"
      ],
      "metadata": {
        "colab": {
          "base_uri": "https://localhost:8080/"
        },
        "id": "MoEvtIhLRbog",
        "outputId": "14dc6c14-47ac-4bc4-b028-6c18a14928cd"
      },
      "execution_count": 33,
      "outputs": [
        {
          "output_type": "stream",
          "name": "stdout",
          "text": [
            "1 2 3 4 5 6 7 8 9 10 11 12 "
          ]
        }
      ]
    },
    {
      "cell_type": "code",
      "source": [
        "arr = np.array([[[1, 2], [3, 4]], [[5, 6], [7, 8]]]) # 3D Array\n",
        "\n",
        "for x in np.nditer(arr):\n",
        "  print(x, end = \" \")"
      ],
      "metadata": {
        "colab": {
          "base_uri": "https://localhost:8080/"
        },
        "id": "WqruSwYNRDm8",
        "outputId": "749ac341-781b-40b5-98a9-2a5f134b2b5f"
      },
      "execution_count": 34,
      "outputs": [
        {
          "output_type": "stream",
          "name": "stdout",
          "text": [
            "1 2 3 4 5 6 7 8 "
          ]
        }
      ]
    },
    {
      "cell_type": "code",
      "source": [
        "arr = np.array([1, 2, 3])\n",
        "\n",
        "for x in np.nditer(arr, flags=['buffered'], op_dtypes=['S']):\n",
        "  print(x)"
      ],
      "metadata": {
        "colab": {
          "base_uri": "https://localhost:8080/"
        },
        "id": "hvBmrn_5SLII",
        "outputId": "58901915-719e-4b29-d7a5-2d9ea090c5e4"
      },
      "execution_count": 35,
      "outputs": [
        {
          "output_type": "stream",
          "name": "stdout",
          "text": [
            "np.bytes_(b'1')\n",
            "np.bytes_(b'2')\n",
            "np.bytes_(b'3')\n"
          ]
        }
      ]
    },
    {
      "cell_type": "markdown",
      "source": [
        "# Join or Concatinate"
      ],
      "metadata": {
        "id": "mbvAwr3849bW"
      }
    },
    {
      "cell_type": "code",
      "source": [
        "arr1 = np.array([1, 2, 3])\n",
        "arr2 = np.array([4, 5, 6])\n",
        "arr3 = np.array([7, 8, 9])\n",
        "\n",
        "arr = np.hstack((arr1, arr2, arr3)) # join into 1D array\n",
        "\n",
        "print(arr)"
      ],
      "metadata": {
        "id": "Jz3MPuQq4Y5c",
        "outputId": "63089b92-4241-4aed-e6fa-0dc3f97ba2a1",
        "colab": {
          "base_uri": "https://localhost:8080/"
        }
      },
      "execution_count": 36,
      "outputs": [
        {
          "output_type": "stream",
          "name": "stdout",
          "text": [
            "[1 2 3 4 5 6 7 8 9]\n"
          ]
        }
      ]
    },
    {
      "cell_type": "code",
      "source": [
        "arr1 = np.array([1, 2, 3])\n",
        "arr2 = np.array([4, 5, 6])\n",
        "arr3 = np.array([7, 8, 9])\n",
        "\n",
        "arr = np.vstack((arr1, arr2, arr3)) # join into 2D array\n",
        "\n",
        "print(arr)"
      ],
      "metadata": {
        "id": "l_eh7vmh467G",
        "outputId": "03b82ade-5b79-46a0-8396-a65aaf608873",
        "colab": {
          "base_uri": "https://localhost:8080/"
        }
      },
      "execution_count": 37,
      "outputs": [
        {
          "output_type": "stream",
          "name": "stdout",
          "text": [
            "[[1 2 3]\n",
            " [4 5 6]\n",
            " [7 8 9]]\n"
          ]
        }
      ]
    },
    {
      "cell_type": "code",
      "source": [
        "arr1 = np.array([1, 2, 3])\n",
        "arr2 = np.array([4, 5, 6])\n",
        "arr3 = np.array([7, 8, 9])\n",
        "arr4 = np.array([10, 11, 12])\n",
        "\n",
        "arr = np.dstack((arr1, arr2, arr3)) # Join into 3D array\n",
        "\n",
        "print(arr)"
      ],
      "metadata": {
        "id": "wPIh9Mck5UmO",
        "outputId": "d61c237b-baeb-4742-8cf4-eda23cdd420c",
        "colab": {
          "base_uri": "https://localhost:8080/"
        }
      },
      "execution_count": 38,
      "outputs": [
        {
          "output_type": "stream",
          "name": "stdout",
          "text": [
            "[[[1 4 7]\n",
            "  [2 5 8]\n",
            "  [3 6 9]]]\n"
          ]
        }
      ]
    },
    {
      "cell_type": "markdown",
      "source": [
        "#Split"
      ],
      "metadata": {
        "id": "loXFaCoF5uD5"
      }
    },
    {
      "cell_type": "code",
      "source": [
        "arr = np.array([1, 2, 3, 4, 5, 6])\n",
        "\n",
        "nums1, nums2 = np.array_split(arr, 2) # split into array\n",
        "\n",
        "print(nums1)\n",
        "print(nums2)"
      ],
      "metadata": {
        "id": "WxdBaZJI5tyl",
        "outputId": "f2173bf6-f902-4f81-abde-2dc14b980497",
        "colab": {
          "base_uri": "https://localhost:8080/"
        }
      },
      "execution_count": 39,
      "outputs": [
        {
          "output_type": "stream",
          "name": "stdout",
          "text": [
            "[1 2 3]\n",
            "[4 5 6]\n"
          ]
        }
      ]
    },
    {
      "cell_type": "code",
      "source": [
        "arr = np.array([1, 2, 3, 4, 5, 6])\n",
        "\n",
        "newarr = np.array_split(arr, 4)\n",
        "\n",
        "print(newarr)"
      ],
      "metadata": {
        "id": "AiaYa7tK6Gtt",
        "outputId": "5d36fced-9a84-4abd-cb3a-5559b9b8f74b",
        "colab": {
          "base_uri": "https://localhost:8080/"
        }
      },
      "execution_count": 40,
      "outputs": [
        {
          "output_type": "stream",
          "name": "stdout",
          "text": [
            "[array([1, 2]), array([3, 4]), array([5]), array([6])]\n"
          ]
        }
      ]
    },
    {
      "cell_type": "markdown",
      "source": [
        "# Search in Numpy array"
      ],
      "metadata": {
        "id": "HsPsVwxC6OjN"
      }
    },
    {
      "cell_type": "code",
      "source": [
        "arr = np.array([1, 2, 3, 4, 5, 4, 4])\n",
        "\n",
        "x = np.where(arr == 4) # return the index of the element\n",
        "\n",
        "print(x)"
      ],
      "metadata": {
        "id": "6mlg5ZX36S7t",
        "outputId": "8f45fef7-abea-4520-f724-9fea3cce67cb",
        "colab": {
          "base_uri": "https://localhost:8080/"
        }
      },
      "execution_count": 41,
      "outputs": [
        {
          "output_type": "stream",
          "name": "stdout",
          "text": [
            "(array([3, 5, 6]),)\n"
          ]
        }
      ]
    },
    {
      "cell_type": "code",
      "source": [
        "arr = np.array([1, 2, 3, 4, 5, 6, 7, 8, 9, 10, 11, 12, 13, 14])\n",
        "\n",
        "x = np.where(arr%2 == 0) # return the index\n",
        "\n",
        "print(x)"
      ],
      "metadata": {
        "id": "w2DkGJYi6hSz",
        "outputId": "cacb5379-84cc-4c38-e94a-bc4e484989b9",
        "colab": {
          "base_uri": "https://localhost:8080/"
        }
      },
      "execution_count": 42,
      "outputs": [
        {
          "output_type": "stream",
          "name": "stdout",
          "text": [
            "(array([ 1,  3,  5,  7,  9, 11, 13]),)\n"
          ]
        }
      ]
    },
    {
      "cell_type": "code",
      "source": [
        "arr = np.array([1, 2, 3, 4, 5, 6, 7, 8, 9, 10, 11, 12, 13, 15])\n",
        "\n",
        "x = np.where(arr%2 == 1) # return the index\n",
        "\n",
        "print(x)"
      ],
      "metadata": {
        "id": "W4c_0CwM6-Nc",
        "outputId": "4c472216-1f94-410e-e819-d5662cf265b5",
        "colab": {
          "base_uri": "https://localhost:8080/"
        }
      },
      "execution_count": 43,
      "outputs": [
        {
          "output_type": "stream",
          "name": "stdout",
          "text": [
            "(array([ 0,  2,  4,  6,  8, 10, 12, 13]),)\n"
          ]
        }
      ]
    },
    {
      "cell_type": "markdown",
      "source": [
        "#Sorting"
      ],
      "metadata": {
        "id": "kJoN0itw7gOm"
      }
    },
    {
      "cell_type": "code",
      "source": [
        "arr = np.array([6, 8, 10, 7, 9])\n",
        "\n",
        "sorted_arr = np.sort(arr)\n",
        "print(x)"
      ],
      "metadata": {
        "id": "MC1GrzCn7M3x",
        "outputId": "0478c622-f5c6-4fb1-fdc5-4b7540a4a05d",
        "colab": {
          "base_uri": "https://localhost:8080/"
        }
      },
      "execution_count": 44,
      "outputs": [
        {
          "output_type": "stream",
          "name": "stdout",
          "text": [
            "(array([ 0,  2,  4,  6,  8, 10, 12, 13]),)\n"
          ]
        }
      ]
    },
    {
      "cell_type": "code",
      "source": [
        "arr = np.array(['banana', 'Lichi', 'Mango' 'cherry', 'apple'])\n",
        "\n",
        "print(np.sort(arr)) # First it will sorted uppercase ten lowercase"
      ],
      "metadata": {
        "id": "YUaRSfbS7xbw",
        "outputId": "4917379d-a793-4f8c-a4d9-4467288c7b64",
        "colab": {
          "base_uri": "https://localhost:8080/"
        }
      },
      "execution_count": 45,
      "outputs": [
        {
          "output_type": "stream",
          "name": "stdout",
          "text": [
            "['Lichi' 'Mangocherry' 'apple' 'banana']\n"
          ]
        }
      ]
    },
    {
      "cell_type": "code",
      "source": [
        "arr = np.array([True, False, True, False])\n",
        "\n",
        "print(np.sort(arr))"
      ],
      "metadata": {
        "id": "w_N1EU4_8CB9",
        "outputId": "a2ac330c-7d53-4c06-db8b-51e9b5513905",
        "colab": {
          "base_uri": "https://localhost:8080/"
        }
      },
      "execution_count": 46,
      "outputs": [
        {
          "output_type": "stream",
          "name": "stdout",
          "text": [
            "[False False  True  True]\n"
          ]
        }
      ]
    },
    {
      "cell_type": "code",
      "source": [
        "arr = np.array([[3, 2, 4, 6], [5, 0, 1, 7]])\n",
        "\n",
        "print(np.sort(arr))"
      ],
      "metadata": {
        "id": "oZ2zxDyH8JH6",
        "outputId": "53653f2b-56b3-4279-d639-f02fad635532",
        "colab": {
          "base_uri": "https://localhost:8080/"
        }
      },
      "execution_count": 47,
      "outputs": [
        {
          "output_type": "stream",
          "name": "stdout",
          "text": [
            "[[2 3 4 6]\n",
            " [0 1 5 7]]\n"
          ]
        }
      ]
    },
    {
      "cell_type": "markdown",
      "source": [
        "#Filter"
      ],
      "metadata": {
        "id": "HMxFkLLj-v_I"
      }
    },
    {
      "cell_type": "code",
      "source": [
        "arr = np.array([41, 42, 43, 44, 45])\n",
        "\n",
        "x = [True, False, True, False, True]\n",
        "\n",
        "newarr = arr[x]\n",
        "\n",
        "print(newarr)"
      ],
      "metadata": {
        "id": "9IbUvlvO8TRG",
        "outputId": "afce7f04-c6d7-4e41-f12f-af87fb16b3ab",
        "colab": {
          "base_uri": "https://localhost:8080/"
        }
      },
      "execution_count": 48,
      "outputs": [
        {
          "output_type": "stream",
          "name": "stdout",
          "text": [
            "[41 43 45]\n"
          ]
        }
      ]
    },
    {
      "cell_type": "code",
      "source": [
        "#Creating a fillter array which elements is grater than 15\n",
        "arr = np.array([41, 10, 15, 11, 42, 43, 44, 45, 59, 70, 90])\n",
        "\n",
        "filter_arr = []\n",
        "\n",
        "for num in arr:\n",
        "  if num > 15:\n",
        "    filter_arr.append(True)\n",
        "\n",
        "  else:\n",
        "    filter_arr.append(False)\n",
        "\n",
        "new_arr = arr[filter_arr]\n",
        "print(filter_arr)\n",
        "print(new_arr)"
      ],
      "metadata": {
        "id": "5UzNNSD3-spG",
        "outputId": "fefcdbca-18f5-451e-baec-c6d4b7a9ce2f",
        "colab": {
          "base_uri": "https://localhost:8080/"
        }
      },
      "execution_count": 49,
      "outputs": [
        {
          "output_type": "stream",
          "name": "stdout",
          "text": [
            "[True, False, False, False, True, True, True, True, True, True, True]\n",
            "[41 42 43 44 45 59 70 90]\n"
          ]
        }
      ]
    },
    {
      "cell_type": "code",
      "source": [
        "#Creating a fillter array which elements is divisible by 3\n",
        "arr = np.array([41, 10, 15, 11, 42, 43, 44, 45, 59, 70, 90])\n",
        "\n",
        "filter_arr = []\n",
        "\n",
        "for num in arr:\n",
        "  if num %3 == 0:\n",
        "    filter_arr.append(True)\n",
        "\n",
        "  else:\n",
        "    filter_arr.append(False)\n",
        "\n",
        "new_arr = arr[filter_arr]\n",
        "print(filter_arr)\n",
        "print(new_arr)"
      ],
      "metadata": {
        "id": "pkCgIt4-_1Yf",
        "outputId": "f295b19a-caf7-4f88-bed5-399e64087d2b",
        "colab": {
          "base_uri": "https://localhost:8080/"
        }
      },
      "execution_count": 50,
      "outputs": [
        {
          "output_type": "stream",
          "name": "stdout",
          "text": [
            "[False, False, True, False, True, False, False, True, False, False, True]\n",
            "[15 42 45 90]\n"
          ]
        }
      ]
    },
    {
      "cell_type": "code",
      "source": [
        "filter_arr = arr > 15\n",
        "\n",
        "newarr = arr[filter_arr]\n",
        "\n",
        "print(filter_arr)\n",
        "print(newarr)"
      ],
      "metadata": {
        "id": "5ViQXnn3AY6r",
        "outputId": "06f07573-89f8-453f-b765-065838b041af",
        "colab": {
          "base_uri": "https://localhost:8080/"
        }
      },
      "execution_count": 51,
      "outputs": [
        {
          "output_type": "stream",
          "name": "stdout",
          "text": [
            "[ True False False False  True  True  True  True  True  True  True]\n",
            "[41 42 43 44 45 59 70 90]\n"
          ]
        }
      ]
    },
    {
      "cell_type": "code",
      "source": [
        "filter_arr = (arr % 3) == 0\n",
        "\n",
        "newarr = arr[filter_arr]\n",
        "\n",
        "print(filter_arr)\n",
        "print(newarr)"
      ],
      "metadata": {
        "id": "Sv031oinAdDD",
        "outputId": "58de05d7-d859-41ce-ce6d-ba6b4653c8f7",
        "colab": {
          "base_uri": "https://localhost:8080/"
        }
      },
      "execution_count": 52,
      "outputs": [
        {
          "output_type": "stream",
          "name": "stdout",
          "text": [
            "[False False  True False  True False False  True False False  True]\n",
            "[15 42 45 90]\n"
          ]
        }
      ]
    },
    {
      "cell_type": "markdown",
      "source": [
        "#Random"
      ],
      "metadata": {
        "id": "6bEt0mfYbKtq"
      }
    },
    {
      "cell_type": "code",
      "source": [
        "from numpy import random\n",
        "\n",
        "num = random.rand()\n",
        "print(num)"
      ],
      "metadata": {
        "outputId": "2ea1a59a-b335-4a20-8d63-6f1b9abf9223",
        "colab": {
          "base_uri": "https://localhost:8080/"
        },
        "id": "2nDEafC6dCeD"
      },
      "execution_count": 56,
      "outputs": [
        {
          "output_type": "stream",
          "name": "stdout",
          "text": [
            "0.17900319313321045\n"
          ]
        }
      ]
    },
    {
      "cell_type": "code",
      "source": [
        "from numpy import random\n",
        "\n",
        "num = random.randint(100)\n",
        "print(num)"
      ],
      "metadata": {
        "colab": {
          "base_uri": "https://localhost:8080/"
        },
        "id": "CBmrPxYabVD_",
        "outputId": "fe9fb6fd-59b5-4f6b-ae37-4cd1e7ad7261"
      },
      "execution_count": 53,
      "outputs": [
        {
          "output_type": "stream",
          "name": "stdout",
          "text": [
            "79\n"
          ]
        }
      ]
    },
    {
      "cell_type": "code",
      "source": [
        "from numpy import random\n",
        "\n",
        "num = random.randint(50, 100)\n",
        "print(num)"
      ],
      "metadata": {
        "colab": {
          "base_uri": "https://localhost:8080/"
        },
        "id": "aE8xVaDCbvjH",
        "outputId": "5181ad52-004f-4afc-a5fc-6b454a7b9251"
      },
      "execution_count": 57,
      "outputs": [
        {
          "output_type": "stream",
          "name": "stdout",
          "text": [
            "93\n"
          ]
        }
      ]
    },
    {
      "cell_type": "code",
      "source": [
        "from numpy import random\n",
        "\n",
        "nums = random.randint(100, size = 5)\n",
        "print(num)"
      ],
      "metadata": {
        "outputId": "f46ef767-acfc-41ab-b452-00c78e982523",
        "colab": {
          "base_uri": "https://localhost:8080/"
        },
        "id": "OnJKTzuKdPqL"
      },
      "execution_count": 59,
      "outputs": [
        {
          "output_type": "stream",
          "name": "stdout",
          "text": [
            "[31 28 17 96 95]\n"
          ]
        }
      ]
    },
    {
      "cell_type": "code",
      "source": [
        "from numpy import random\n",
        "\n",
        "nums = random.randint(100, size = (3, 5))\n",
        "print(nums)"
      ],
      "metadata": {
        "colab": {
          "base_uri": "https://localhost:8080/"
        },
        "id": "uwVkwuqddWyL",
        "outputId": "17746c42-9adb-439c-ddc0-c13d0057b562"
      },
      "execution_count": 61,
      "outputs": [
        {
          "output_type": "stream",
          "name": "stdout",
          "text": [
            "[[63 30 68 69 46]\n",
            " [91 66  0 22  0]\n",
            " [97 56 71 36 30]]\n"
          ]
        }
      ]
    },
    {
      "cell_type": "code",
      "source": [
        "from numpy import random\n",
        "\n",
        "num = random.rand(5)\n",
        "print(num)"
      ],
      "metadata": {
        "colab": {
          "base_uri": "https://localhost:8080/"
        },
        "id": "nH6lgpl9dnoT",
        "outputId": "03b65735-f686-4412-b772-dd0da5dd4567"
      },
      "execution_count": 63,
      "outputs": [
        {
          "output_type": "stream",
          "name": "stdout",
          "text": [
            "[0.8271942  0.60830757 0.1521603  0.1678617  0.59454253]\n"
          ]
        }
      ]
    },
    {
      "cell_type": "code",
      "source": [
        "from numpy import random\n",
        "\n",
        "nums = random.choice([63, 30, 68, 69, 46])\n",
        "print(nums)"
      ],
      "metadata": {
        "colab": {
          "base_uri": "https://localhost:8080/"
        },
        "id": "jkj6cknMdt1S",
        "outputId": "e6c54e2e-ad20-4a29-a9a2-bdd993089328"
      },
      "execution_count": 69,
      "outputs": [
        {
          "output_type": "stream",
          "name": "stdout",
          "text": [
            "69\n"
          ]
        }
      ]
    },
    {
      "cell_type": "code",
      "source": [
        "from numpy import random\n",
        "\n",
        "nums = random.choice([63, 30, 68, 69, 46], size=(3, 5))\n",
        "print(nums)"
      ],
      "metadata": {
        "colab": {
          "base_uri": "https://localhost:8080/"
        },
        "id": "rvxdAYPqeJya",
        "outputId": "f57440c8-bd1c-4029-83dd-8941cb632acd"
      },
      "execution_count": 68,
      "outputs": [
        {
          "output_type": "stream",
          "name": "stdout",
          "text": [
            "[[46 63 30 46 46]\n",
            " [30 69 68 63 63]\n",
            " [63 63 30 30 63]]\n"
          ]
        }
      ]
    },
    {
      "cell_type": "markdown",
      "source": [
        "#Arange"
      ],
      "metadata": {
        "id": "IjO-JqbXfCp9"
      }
    },
    {
      "cell_type": "code",
      "source": [
        "from numpy import arange\n",
        "\n",
        "nums = arange(6, 11)\n",
        "print(nums)"
      ],
      "metadata": {
        "colab": {
          "base_uri": "https://localhost:8080/"
        },
        "id": "Gnd64uiGedPE",
        "outputId": "b837800e-8743-4467-e399-0e494c3ccd21"
      },
      "execution_count": 71,
      "outputs": [
        {
          "output_type": "stream",
          "name": "stdout",
          "text": [
            "[ 6  7  8  9 10]\n"
          ]
        }
      ]
    },
    {
      "cell_type": "markdown",
      "source": [
        "#Zeroes and Ones"
      ],
      "metadata": {
        "id": "uZMWdz3Ofg9L"
      }
    },
    {
      "cell_type": "code",
      "source": [
        "import numpy as np\n",
        "nums = np.zeros(3)\n",
        "print(nums)"
      ],
      "metadata": {
        "colab": {
          "base_uri": "https://localhost:8080/"
        },
        "id": "PyA-pYXVff4m",
        "outputId": "c3474d56-cde2-431a-f84e-93bf85c871b6"
      },
      "execution_count": 72,
      "outputs": [
        {
          "output_type": "stream",
          "name": "stdout",
          "text": [
            "[0. 0. 0.]\n"
          ]
        }
      ]
    },
    {
      "cell_type": "code",
      "source": [
        "import numpy as np\n",
        "nums = np.zeros((3, 4))\n",
        "print(nums)"
      ],
      "metadata": {
        "colab": {
          "base_uri": "https://localhost:8080/"
        },
        "id": "p8D1jObdf00l",
        "outputId": "8ea4a9c6-4c79-4c41-9c72-0cde32ee83e3"
      },
      "execution_count": 75,
      "outputs": [
        {
          "output_type": "stream",
          "name": "stdout",
          "text": [
            "[[0. 0. 0. 0.]\n",
            " [0. 0. 0. 0.]\n",
            " [0. 0. 0. 0.]]\n"
          ]
        }
      ]
    },
    {
      "cell_type": "code",
      "source": [
        "import numpy as np\n",
        "nums = np.zeros((2, 3, 3))\n",
        "print(nums)"
      ],
      "metadata": {
        "colab": {
          "base_uri": "https://localhost:8080/"
        },
        "id": "weGTJpu-gJpY",
        "outputId": "239c9d26-6123-4703-dc90-9a0274f57577"
      },
      "execution_count": 82,
      "outputs": [
        {
          "output_type": "stream",
          "name": "stdout",
          "text": [
            "[[[0. 0. 0.]\n",
            "  [0. 0. 0.]\n",
            "  [0. 0. 0.]]\n",
            "\n",
            " [[0. 0. 0.]\n",
            "  [0. 0. 0.]\n",
            "  [0. 0. 0.]]]\n"
          ]
        }
      ]
    },
    {
      "cell_type": "code",
      "source": [
        "import numpy as np\n",
        "nums = np.ones(3, dtype = 'int')\n",
        "print(nums)"
      ],
      "metadata": {
        "colab": {
          "base_uri": "https://localhost:8080/"
        },
        "id": "w3crp2vVgSnA",
        "outputId": "7dd65a21-97d7-49d3-8db6-08cedf5d4d35"
      },
      "execution_count": 78,
      "outputs": [
        {
          "output_type": "stream",
          "name": "stdout",
          "text": [
            "[1 1 1]\n"
          ]
        }
      ]
    },
    {
      "cell_type": "code",
      "source": [
        "import numpy as np\n",
        "nums = np.ones((3, 3), dtype = 'int')\n",
        "print(nums)"
      ],
      "metadata": {
        "colab": {
          "base_uri": "https://localhost:8080/"
        },
        "id": "gdKnSfHlgdnb",
        "outputId": "562d6c5f-1ec6-4c6d-fa27-f9ed843f6b79"
      },
      "execution_count": 79,
      "outputs": [
        {
          "output_type": "stream",
          "name": "stdout",
          "text": [
            "[[1 1 1]\n",
            " [1 1 1]\n",
            " [1 1 1]]\n"
          ]
        }
      ]
    },
    {
      "cell_type": "code",
      "source": [
        "import numpy as np\n",
        "nums = np.ones((4, 3, 3), dtype = 'int')\n",
        "print(nums)"
      ],
      "metadata": {
        "colab": {
          "base_uri": "https://localhost:8080/"
        },
        "id": "icH0Ni65gh5y",
        "outputId": "a5e03256-d414-47ac-9f56-9a0d3fa3d763"
      },
      "execution_count": 81,
      "outputs": [
        {
          "output_type": "stream",
          "name": "stdout",
          "text": [
            "[[[1 1 1]\n",
            "  [1 1 1]\n",
            "  [1 1 1]]\n",
            "\n",
            " [[1 1 1]\n",
            "  [1 1 1]\n",
            "  [1 1 1]]\n",
            "\n",
            " [[1 1 1]\n",
            "  [1 1 1]\n",
            "  [1 1 1]]\n",
            "\n",
            " [[1 1 1]\n",
            "  [1 1 1]\n",
            "  [1 1 1]]]\n"
          ]
        }
      ]
    }
  ]
}